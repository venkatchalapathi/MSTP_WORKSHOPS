{
 "cells": [
  {
   "cell_type": "code",
   "execution_count": 9,
   "metadata": {},
   "outputs": [
    {
     "name": "stdout",
     "output_type": "stream",
     "text": [
      "Enter No of Test cases To Run Your Program3\n",
      "1\n",
      "10\n",
      "5\n",
      "5 10 15 20 25 30 35 40 45 50 1\n",
      "10\n",
      "6\n",
      "6 12 18 24 30 36 42 48 54 60 1\n",
      "10\n",
      "7\n",
      "7 14 21 28 35 42 49 56 63 70 "
     ]
    }
   ],
   "source": [
    "### 5 table\n",
    "# input:1 10 5\n",
    "# output:5 10 15.....\n",
    "test_cases=int(input(\"Enter No of Test cases To Run Your Program\"))#5\n",
    "for i in range(test_cases):\n",
    "    start=int(input())\n",
    "    end=int(input())\n",
    "    n=int(input()) \n",
    "    for i in range(start,end+1):\n",
    "        print(n*i,end=\" \")\n"
   ]
  },
  {
   "cell_type": "code",
   "execution_count": 13,
   "metadata": {},
   "outputs": [
    {
     "name": "stdout",
     "output_type": "stream",
     "text": [
      "Enter Your No of Photos :1\n",
      "Enter Length :180\n",
      "Enter Height :120\n",
      "Enter Width :180\n",
      "Upload Another Pic\n"
     ]
    }
   ],
   "source": [
    "# Profile pic with testcases\n",
    "t=int(input(\"Enter Your No of Photos :\"))\n",
    "l=int(input(\"Enter Length :\"))\n",
    "for i in range(t):\n",
    "    h=int(input(\"Enter Height :\"))\n",
    "    w=int(input(\"Enter Width :\"))\n",
    "    if(h>=l and w>=l):\n",
    "        if(h==w):\n",
    "            print(\"Accepted\")\n",
    "        else:\n",
    "            print(\"Crop It\")\n",
    "    else:\n",
    "        print(\"Upload Another Pic\")\n",
    "        "
   ]
  },
  {
   "cell_type": "code",
   "execution_count": 15,
   "metadata": {},
   "outputs": [
    {
     "name": "stdout",
     "output_type": "stream",
     "text": [
      "10\n",
      "1 2 3 4 5 6 7 8 9 10 "
     ]
    }
   ],
   "source": [
    "# initialization\n",
    "# while(condition):\n",
    "#     statements\n",
    "#     incre/decre\n",
    "# Natural Numbers for given Number\n",
    "n=int(input())\n",
    "i=1# initialization\n",
    "while(i<=n):\n",
    "    print(i,end=\" \")\n",
    "    i=i+1\n",
    "\n"
   ]
  },
  {
   "cell_type": "code",
   "execution_count": 17,
   "metadata": {},
   "outputs": [
    {
     "name": "stdout",
     "output_type": "stream",
     "text": [
      "1\n",
      "15\n",
      "2\n",
      "0 1 1 2 2 3 3 4 4 5 5 6 6 7 7 "
     ]
    }
   ],
   "source": [
    "# input: 1 15 2\n",
    "#output:0 1 1 2 2 3 3 ....\n",
    "# hint :1//2 2//2 3//2 ...\n",
    "s=int(input())\n",
    "e=int(input())\n",
    "d=int(input())\n",
    "while(s<=e):\n",
    "    print(s//d,end=\" \")\n",
    "    s=s+1\n",
    "    "
   ]
  },
  {
   "cell_type": "code",
   "execution_count": 21,
   "metadata": {},
   "outputs": [
    {
     "name": "stdout",
     "output_type": "stream",
     "text": [
      "Enter no of Test Cases :4\n",
      "5432\n",
      "Digit Count is  4\n",
      "87654\n",
      "Digit Count is  5\n",
      "23456789\n",
      "Digit Count is  8\n",
      "87654567876543\n",
      "Digit Count is  14\n"
     ]
    }
   ],
   "source": [
    "# input:46783\n",
    "# output:5\n",
    "t=int(input(\"Enter no of Test Cases :\"))\n",
    "for i in range(t):\n",
    "    n=int(input())# 46783\n",
    "    count=0\n",
    "    while(n!=0):#(46783!=0)(T),4678!=0(T),467!=0(T),46!=0(T),4!=0(T),0!=0(F)\n",
    "        count=count+1# 1,2,3,4,5\n",
    "        n=n//10 #--->46783//10 -->4678,4678//10-->467,467//10-->46,46//10-->4,4//10 -->0\n",
    "    print(\"Digit Count is \",count)"
   ]
  },
  {
   "cell_type": "markdown",
   "metadata": {},
   "source": [
    "## Python Strings.."
   ]
  },
  {
   "cell_type": "code",
   "execution_count": 11,
   "metadata": {},
   "outputs": [
    {
     "data": {
      "text/plain": [
       "6"
      ]
     },
     "execution_count": 11,
     "metadata": {},
     "output_type": "execute_result"
    }
   ],
   "source": [
    "s='apssdc'\n",
    "len(s)"
   ]
  },
  {
   "cell_type": "code",
   "execution_count": 13,
   "metadata": {},
   "outputs": [
    {
     "data": {
      "text/plain": [
       "13"
      ]
     },
     "execution_count": 13,
     "metadata": {},
     "output_type": "execute_result"
    }
   ],
   "source": [
    "s1='Hello Apssdc!'\n",
    "len(s1)"
   ]
  },
  {
   "cell_type": "code",
   "execution_count": 17,
   "metadata": {},
   "outputs": [
    {
     "name": "stdout",
     "output_type": "stream",
     "text": [
      "e\n",
      "Apssdc\n"
     ]
    }
   ],
   "source": [
    "print(s1[1])\n",
    "print(s1[6:12])"
   ]
  },
  {
   "cell_type": "markdown",
   "metadata": {},
   "source": [
    "# Stirngs Slicing\n"
   ]
  },
  {
   "cell_type": "code",
   "execution_count": 47,
   "metadata": {},
   "outputs": [
    {
     "data": {
      "text/plain": [
       "'good moring students!'"
      ]
     },
     "execution_count": 47,
     "metadata": {},
     "output_type": "execute_result"
    }
   ],
   "source": [
    "s1\n",
    "s2='good moring students!'\n",
    "s2"
   ]
  },
  {
   "cell_type": "code",
   "execution_count": 53,
   "metadata": {},
   "outputs": [
    {
     "name": "stdout",
     "output_type": "stream",
     "text": [
      "!\n",
      "c\n",
      "!cdsspA olleH\n",
      "HloAsd!\n",
      "cd\n",
      "st\n"
     ]
    }
   ],
   "source": [
    "\n",
    "print(s1[-1])#for Geeting Last Character \n",
    "print(s1[-2])# For getting Last 2nd char\n",
    "print(s1[::-1]) #String Reverse\n",
    "print(s1[::2]) #Alternative Char\n",
    "print(s1[-2:-4:-1])# String Reverser of last char-->cd\n",
    "print(s2[-2:-4:-1])\n",
    "\n"
   ]
  },
  {
   "cell_type": "code",
   "execution_count": 28,
   "metadata": {},
   "outputs": [
    {
     "data": {
      "text/plain": [
       "'!'"
      ]
     },
     "execution_count": 28,
     "metadata": {},
     "output_type": "execute_result"
    }
   ],
   "source": [
    "s1[12]"
   ]
  },
  {
   "cell_type": "code",
   "execution_count": 31,
   "metadata": {},
   "outputs": [
    {
     "data": {
      "text/plain": [
       "'dc'"
      ]
     },
     "execution_count": 31,
     "metadata": {},
     "output_type": "execute_result"
    }
   ],
   "source": [
    "s1[10:12]"
   ]
  },
  {
   "cell_type": "code",
   "execution_count": 32,
   "metadata": {},
   "outputs": [
    {
     "data": {
      "text/plain": [
       "'!'"
      ]
     },
     "execution_count": 32,
     "metadata": {},
     "output_type": "execute_result"
    }
   ],
   "source": [
    "s1[len(s1)-1]"
   ]
  },
  {
   "cell_type": "code",
   "execution_count": 54,
   "metadata": {},
   "outputs": [
    {
     "data": {
      "text/plain": [
       "'muni'"
      ]
     },
     "execution_count": 54,
     "metadata": {},
     "output_type": "execute_result"
    }
   ],
   "source": [
    "a=' muni '\n",
    "a.strip()# Removes the entire Space of the string"
   ]
  },
  {
   "cell_type": "code",
   "execution_count": 55,
   "metadata": {},
   "outputs": [
    {
     "data": {
      "text/plain": [
       "' muni'"
      ]
     },
     "execution_count": 55,
     "metadata": {},
     "output_type": "execute_result"
    }
   ],
   "source": [
    "a.rstrip()# Right side space removes\n",
    "a.lstrip()# Left side space remove"
   ]
  },
  {
   "cell_type": "code",
   "execution_count": 61,
   "metadata": {},
   "outputs": [
    {
     "data": {
      "text/plain": [
       "' muni '"
      ]
     },
     "execution_count": 61,
     "metadata": {},
     "output_type": "execute_result"
    }
   ],
   "source": [
    "a.isupper()\n",
    "a.islower()\n",
    "ab='6524542674munhkgfhjsdg@#$%^&*#$%'\n",
    "ab.isalpha()\n",
    "a"
   ]
  },
  {
   "cell_type": "code",
   "execution_count": 62,
   "metadata": {
    "scrolled": true
   },
   "outputs": [
    {
     "name": "stdout",
     "output_type": "stream",
     "text": [
      " \n",
      "m\n",
      "u\n",
      "n\n",
      "i\n",
      " \n"
     ]
    }
   ],
   "source": [
    "for i in a:\n",
    "    print(i)"
   ]
  },
  {
   "cell_type": "code",
   "execution_count": 63,
   "metadata": {},
   "outputs": [
    {
     "data": {
      "text/plain": [
       "'Hello Apssdc!'"
      ]
     },
     "execution_count": 63,
     "metadata": {},
     "output_type": "execute_result"
    }
   ],
   "source": [
    "s1"
   ]
  },
  {
   "cell_type": "code",
   "execution_count": 75,
   "metadata": {
    "scrolled": true
   },
   "outputs": [
    {
     "name": "stdout",
     "output_type": "stream",
     "text": [
      "[' ', ' ', '!', 'd', 'd', 'e', 'g', 'g', 'i', 'm', 'n', 'n', 'o', 'o', 'o', 'r', 's', 's', 't', 't', 'u'] "
     ]
    },
    {
     "data": {
      "text/plain": [
       "2"
      ]
     },
     "execution_count": 75,
     "metadata": {},
     "output_type": "execute_result"
    }
   ],
   "source": [
    "s2\n",
    "# s3=sorted(s2)\n",
    "print(sorted(s2),end=' ')\n",
    "s2.count('n')\n"
   ]
  },
  {
   "cell_type": "code",
   "execution_count": 65,
   "metadata": {},
   "outputs": [
    {
     "data": {
      "text/plain": [
       "'Hello Apssdc!good moring students!'"
      ]
     },
     "execution_count": 65,
     "metadata": {},
     "output_type": "execute_result"
    }
   ],
   "source": [
    "s1+s2"
   ]
  },
  {
   "cell_type": "code",
   "execution_count": 76,
   "metadata": {},
   "outputs": [
    {
     "data": {
      "text/plain": [
       "' muni '"
      ]
     },
     "execution_count": 76,
     "metadata": {},
     "output_type": "execute_result"
    }
   ],
   "source": [
    "a"
   ]
  },
  {
   "cell_type": "code",
   "execution_count": 81,
   "metadata": {},
   "outputs": [
    {
     "data": {
      "text/plain": [
       "' MUNI '"
      ]
     },
     "execution_count": 81,
     "metadata": {},
     "output_type": "execute_result"
    }
   ],
   "source": [
    "b=a.swapcase()\n",
    "b"
   ]
  },
  {
   "cell_type": "code",
   "execution_count": 82,
   "metadata": {},
   "outputs": [
    {
     "data": {
      "text/plain": [
       "' muni '"
      ]
     },
     "execution_count": 82,
     "metadata": {},
     "output_type": "execute_result"
    }
   ],
   "source": [
    "c=b.swapcase()\n",
    "c"
   ]
  },
  {
   "cell_type": "code",
   "execution_count": 89,
   "metadata": {},
   "outputs": [
    {
     "data": {
      "text/plain": [
       "'Helloo'"
      ]
     },
     "execution_count": 89,
     "metadata": {},
     "output_type": "execute_result"
    }
   ],
   "source": [
    "st=\"helloo\"\n",
    "st\n",
    "st.capitalize()"
   ]
  },
  {
   "cell_type": "code",
   "execution_count": 92,
   "metadata": {},
   "outputs": [
    {
     "name": "stdout",
     "output_type": "stream",
     "text": [
      "Before sorted :Good Moring Stu..\n",
      "After Sorting :  ..GMSdginooortu\n"
     ]
    }
   ],
   "source": [
    "s2=\"Good Moring Stu..\"\n",
    "print(\"Before sorted :\" + str(s2))\n",
    "res=''.join(sorted(s2))\n",
    "print(\"After Sorting :\" + str(res))\n"
   ]
  },
  {
   "cell_type": "code",
   "execution_count": 102,
   "metadata": {},
   "outputs": [
    {
     "data": {
      "text/plain": [
       "209"
      ]
     },
     "execution_count": 102,
     "metadata": {},
     "output_type": "execute_result"
    }
   ],
   "source": [
    "s=\"hi\"\n",
    "a=(ord('h'))\n",
    "b=(ord('i'))\n",
    "a+b\n"
   ]
  },
  {
   "cell_type": "code",
   "execution_count": 121,
   "metadata": {},
   "outputs": [
    {
     "name": "stdout",
     "output_type": "stream",
     "text": [
      "W ---> 87\n",
      "e ---> 101\n",
      "l ---> 108\n",
      "c ---> 99\n",
      "o ---> 111\n",
      "m ---> 109\n",
      "e ---> 101\n",
      "  ---> 32\n",
      "t ---> 116\n",
      "o ---> 111\n",
      "  ---> 32\n",
      "A ---> 65\n",
      "P ---> 80\n",
      "S ---> 83\n",
      "S ---> 83\n",
      "D ---> 68\n",
      "C ---> 67\n",
      "  ---> 32\n",
      "P ---> 80\n",
      "y ---> 121\n",
      "t ---> 116\n",
      "h ---> 104\n",
      "o ---> 111\n",
      "n ---> 110\n",
      "  ---> 32\n",
      "W ---> 87\n",
      "o ---> 111\n",
      "r ---> 114\n",
      "k ---> 107\n",
      "s ---> 115\n",
      "h ---> 104\n",
      "o ---> 111\n",
      "p ---> 112\n",
      "  ---> 32\n",
      "2 ---> 50\n",
      "1 ---> 49\n",
      "2 ---> 50\n",
      "3 ---> 51\n",
      "4 ---> 52\n",
      "  ---> 32\n",
      "! ---> 33\n",
      "@ ---> 64\n",
      "# ---> 35\n",
      "$ ---> 36\n",
      "# ---> 35\n",
      "% ---> 37\n",
      "sum = 3576\n"
     ]
    }
   ],
   "source": [
    "# Welcome to Apssdc -->Ascii sum\n",
    "\n",
    "s=\"Welcome to APSSDC Python Workshop 21234 !@#$#%\"\n",
    "i=0\n",
    "count=0\n",
    "l=len(s)\n",
    "sum1=0\n",
    "while(i<=l-1):\n",
    "    print(s[i],\"--->\",ord(s[i]))\n",
    "    sum1=sum1+ord(s[i])\n",
    "    i=i+1\n",
    "print(\"sum =\",sum1)"
   ]
  },
  {
   "cell_type": "code",
   "execution_count": 122,
   "metadata": {},
   "outputs": [],
   "source": [
    "# s=\"Welcome to APSSDC Python Workshop 21234 !@#$#%\"\n",
    "\n",
    "# Alfabets count --> 30\n",
    "#     lower charaters count -->25\n",
    "#     upper charaters count -->5\n",
    "# numarical count -->5\n",
    "# special symbols count -->6"
   ]
  },
  {
   "cell_type": "code",
   "execution_count": 128,
   "metadata": {},
   "outputs": [
    {
     "data": {
      "text/plain": [
       "'hI WEcOmE To aPsSdC'"
      ]
     },
     "execution_count": 128,
     "metadata": {},
     "output_type": "execute_result"
    }
   ],
   "source": [
    "# s1=\"hello\"\n",
    "# s2=s1[::-1]\n",
    "# if(s1==s2):\n",
    "#     print(\"Yes\")\n",
    "# else:\n",
    "#     print(\"No\")\n",
    "    \n",
    "# Taks 3 -->With out using slicing\n",
    "\n",
    "# Task 4 -->\n",
    "#         input:\"Hi weCoMe tO ApSsDc\"\n",
    "\n",
    "\n",
    "\n",
    "\n",
    "\n",
    "\n",
    "s=\"Hi weCoMe tO ApSsDc\"\n",
    "s.swapcase()"
   ]
  },
  {
   "cell_type": "code",
   "execution_count": 133,
   "metadata": {},
   "outputs": [
    {
     "data": {
      "text/plain": [
       "'A'"
      ]
     },
     "execution_count": 133,
     "metadata": {},
     "output_type": "execute_result"
    }
   ],
   "source": [
    "c='a'\n",
    "\n",
    "chr(ord('a')-32)"
   ]
  },
  {
   "cell_type": "code",
   "execution_count": 134,
   "metadata": {},
   "outputs": [
    {
     "data": {
      "text/plain": [
       "'z'"
      ]
     },
     "execution_count": 134,
     "metadata": {},
     "output_type": "execute_result"
    }
   ],
   "source": [
    "c=\"Z\"\n",
    "chr(ord(c)+32)"
   ]
  },
  {
   "cell_type": "code",
   "execution_count": 135,
   "metadata": {},
   "outputs": [
    {
     "data": {
      "text/plain": [
       "104"
      ]
     },
     "execution_count": 135,
     "metadata": {},
     "output_type": "execute_result"
    }
   ],
   "source": [
    "a"
   ]
  },
  {
   "cell_type": "code",
   "execution_count": 136,
   "metadata": {},
   "outputs": [
    {
     "data": {
      "text/plain": [
       "'hello'"
      ]
     },
     "execution_count": 136,
     "metadata": {},
     "output_type": "execute_result"
    }
   ],
   "source": [
    "s1"
   ]
  },
  {
   "cell_type": "code",
   "execution_count": 146,
   "metadata": {},
   "outputs": [
    {
     "data": {
      "text/plain": [
       "['Hello', 'world']"
      ]
     },
     "execution_count": 146,
     "metadata": {},
     "output_type": "execute_result"
    }
   ],
   "source": [
    "#Spilt()\n",
    "#Join()\n",
    "d='Hello world'\n",
    "d.split()\n",
    "#'Andhra Pradesh State Skill Development Corporation'\n"
   ]
  },
  {
   "cell_type": "code",
   "execution_count": 150,
   "metadata": {},
   "outputs": [
    {
     "data": {
      "text/plain": [
       "['Andhra Pradesh State Skill Development Corporation']"
      ]
     },
     "execution_count": 150,
     "metadata": {},
     "output_type": "execute_result"
    }
   ],
   "source": [
    "my_string='Andhra Pradesh State Skill Development Corporation'\n",
    "# my_string.split('')"
   ]
  },
  {
   "cell_type": "code",
   "execution_count": 151,
   "metadata": {},
   "outputs": [
    {
     "data": {
      "text/plain": [
       "'Hello world'"
      ]
     },
     "execution_count": 151,
     "metadata": {},
     "output_type": "execute_result"
    }
   ],
   "source": [
    "#Join()\n",
    "d"
   ]
  },
  {
   "cell_type": "code",
   "execution_count": 153,
   "metadata": {},
   "outputs": [
    {
     "data": {
      "text/plain": [
       "'H*e*l*l*o* *w*o*r*l*d'"
      ]
     },
     "execution_count": 153,
     "metadata": {},
     "output_type": "execute_result"
    }
   ],
   "source": [
    "d2='*'.join(d)\n",
    "d2"
   ]
  },
  {
   "cell_type": "code",
   "execution_count": 156,
   "metadata": {},
   "outputs": [
    {
     "data": {
      "text/plain": [
       "'Andhra#Pradesh#State#Skill#Development#Corporation'"
      ]
     },
     "execution_count": 156,
     "metadata": {},
     "output_type": "execute_result"
    }
   ],
   "source": [
    "st=my_string.split()\n",
    "st1='#'.join(st)\n",
    "st1"
   ]
  },
  {
   "cell_type": "code",
   "execution_count": 158,
   "metadata": {},
   "outputs": [
    {
     "data": {
      "text/plain": [
       "'Andhra#Pradesh#State#Skill#Development#Corporation'"
      ]
     },
     "execution_count": 158,
     "metadata": {},
     "output_type": "execute_result"
    }
   ],
   "source": [
    "st1\n",
    "\n",
    "\n",
    "\n"
   ]
  },
  {
   "cell_type": "code",
   "execution_count": 159,
   "metadata": {},
   "outputs": [
    {
     "data": {
      "text/plain": [
       "'Andhra*Pradesh*State*Skill*Development*Corporation'"
      ]
     },
     "execution_count": 159,
     "metadata": {},
     "output_type": "execute_result"
    }
   ],
   "source": [
    "st1.replace('#','*')"
   ]
  },
  {
   "cell_type": "code",
   "execution_count": 160,
   "metadata": {},
   "outputs": [
    {
     "data": {
      "text/plain": [
       "['__add__',\n",
       " '__class__',\n",
       " '__contains__',\n",
       " '__delattr__',\n",
       " '__dir__',\n",
       " '__doc__',\n",
       " '__eq__',\n",
       " '__format__',\n",
       " '__ge__',\n",
       " '__getattribute__',\n",
       " '__getitem__',\n",
       " '__getnewargs__',\n",
       " '__gt__',\n",
       " '__hash__',\n",
       " '__init__',\n",
       " '__init_subclass__',\n",
       " '__iter__',\n",
       " '__le__',\n",
       " '__len__',\n",
       " '__lt__',\n",
       " '__mod__',\n",
       " '__mul__',\n",
       " '__ne__',\n",
       " '__new__',\n",
       " '__reduce__',\n",
       " '__reduce_ex__',\n",
       " '__repr__',\n",
       " '__rmod__',\n",
       " '__rmul__',\n",
       " '__setattr__',\n",
       " '__sizeof__',\n",
       " '__str__',\n",
       " '__subclasshook__',\n",
       " 'capitalize',\n",
       " 'casefold',\n",
       " 'center',\n",
       " 'count',\n",
       " 'encode',\n",
       " 'endswith',\n",
       " 'expandtabs',\n",
       " 'find',\n",
       " 'format',\n",
       " 'format_map',\n",
       " 'index',\n",
       " 'isalnum',\n",
       " 'isalpha',\n",
       " 'isascii',\n",
       " 'isdecimal',\n",
       " 'isdigit',\n",
       " 'isidentifier',\n",
       " 'islower',\n",
       " 'isnumeric',\n",
       " 'isprintable',\n",
       " 'isspace',\n",
       " 'istitle',\n",
       " 'isupper',\n",
       " 'join',\n",
       " 'ljust',\n",
       " 'lower',\n",
       " 'lstrip',\n",
       " 'maketrans',\n",
       " 'partition',\n",
       " 'replace',\n",
       " 'rfind',\n",
       " 'rindex',\n",
       " 'rjust',\n",
       " 'rpartition',\n",
       " 'rsplit',\n",
       " 'rstrip',\n",
       " 'split',\n",
       " 'splitlines',\n",
       " 'startswith',\n",
       " 'strip',\n",
       " 'swapcase',\n",
       " 'title',\n",
       " 'translate',\n",
       " 'upper',\n",
       " 'zfill']"
      ]
     },
     "execution_count": 160,
     "metadata": {},
     "output_type": "execute_result"
    }
   ],
   "source": [
    "dir(str)"
   ]
  },
  {
   "cell_type": "code",
   "execution_count": 164,
   "metadata": {},
   "outputs": [
    {
     "data": {
      "text/plain": [
       "'hello'"
      ]
     },
     "execution_count": 164,
     "metadata": {},
     "output_type": "execute_result"
    }
   ],
   "source": [
    "s1"
   ]
  },
  {
   "cell_type": "code",
   "execution_count": 168,
   "metadata": {},
   "outputs": [
    {
     "data": {
      "text/plain": [
       "-1"
      ]
     },
     "execution_count": 168,
     "metadata": {},
     "output_type": "execute_result"
    }
   ],
   "source": [
    "s1.find('Y')"
   ]
  },
  {
   "cell_type": "code",
   "execution_count": null,
   "metadata": {},
   "outputs": [],
   "source": [
    " #Task:1   # Write a program for string swaping\n",
    "\n",
    "    # input= pyTHon\n",
    "    # output = PYthON\n",
    "# Task 2:\n",
    "        #Check the Given string is Palindrome or not\n",
    "        #case1:apssdc->cdsspa =false\n",
    "        #case2:madam->madam   =True\n",
    "        \n",
    "        \n",
    "#Task 3:\n",
    "        #Find the average char of given string\n",
    "            #--> Python->h\n",
    "#Task 4:# Find the Freqvency of each charecter in string \n",
    "\n",
    "\n",
    "       "
   ]
  },
  {
   "cell_type": "code",
   "execution_count": 180,
   "metadata": {},
   "outputs": [
    {
     "data": {
      "text/plain": [
       "'h'"
      ]
     },
     "execution_count": 180,
     "metadata": {},
     "output_type": "execute_result"
    }
   ],
   "source": [
    "n='python'\n",
    "n1=n[len(n)//2]\n",
    "n1"
   ]
  },
  {
   "cell_type": "markdown",
   "metadata": {},
   "source": [
    "## Functions \n",
    "* Reusability \n",
    "* Multi oparations \n"
   ]
  },
  {
   "cell_type": "code",
   "execution_count": null,
   "metadata": {},
   "outputs": [],
   "source": [
    "def my_funtion():#Funtion Starting\n",
    "    #body of the statements\n",
    "my_funtion()#Function Closing"
   ]
  },
  {
   "cell_type": "code",
   "execution_count": 182,
   "metadata": {},
   "outputs": [
    {
     "name": "stdout",
     "output_type": "stream",
     "text": [
      "Enter the a value : 2\n",
      "Enter the b value : 5\n"
     ]
    },
    {
     "data": {
      "text/plain": [
       "7"
      ]
     },
     "execution_count": 182,
     "metadata": {},
     "output_type": "execute_result"
    }
   ],
   "source": [
    "#With Argument and With Return Value \n",
    "a=int(input(\"Enter the a value : \"))\n",
    "b=int(input(\"Enter the b value : \"))\n",
    "def addtion(a,b):\n",
    "    return a+b\n",
    "addtion(a,b)"
   ]
  },
  {
   "cell_type": "code",
   "execution_count": 183,
   "metadata": {},
   "outputs": [
    {
     "data": {
      "text/plain": [
       "-3"
      ]
     },
     "execution_count": 183,
     "metadata": {},
     "output_type": "execute_result"
    }
   ],
   "source": [
    "a=int(input(\"Enter the a value : \"))\n",
    "b=int(input(\"Enter the b value : \"))\n",
    "def subStration(a,b):\n",
    "    return a-b\n",
    "subStration(a,b)"
   ]
  },
  {
   "cell_type": "markdown",
   "metadata": {},
   "source": [
    "### Types of Functions \n",
    "1. Without Arguments with Return value\n",
    "2. With Argument with Return value\n",
    "3. Without Arguments without value\n",
    "4. with Argument Without Return Value"
   ]
  },
  {
   "cell_type": "code",
   "execution_count": 184,
   "metadata": {},
   "outputs": [
    {
     "data": {
      "text/plain": [
       "30"
      ]
     },
     "execution_count": 184,
     "metadata": {},
     "output_type": "execute_result"
    }
   ],
   "source": [
    "#Without Arguments with Return value\n",
    "def add():\n",
    "    a=10\n",
    "    b=20\n",
    "    return a+b\n",
    "add()"
   ]
  },
  {
   "cell_type": "code",
   "execution_count": 185,
   "metadata": {},
   "outputs": [
    {
     "name": "stdout",
     "output_type": "stream",
     "text": [
      "6\n"
     ]
    }
   ],
   "source": [
    "#With argument and with out return value\n",
    "def mul(a,b):\n",
    "    print(a*b)\n",
    "mul(2,3)"
   ]
  },
  {
   "cell_type": "code",
   "execution_count": 187,
   "metadata": {},
   "outputs": [
    {
     "name": "stdout",
     "output_type": "stream",
     "text": [
      "Enter the the year2000\n",
      "True\n"
     ]
    }
   ],
   "source": [
    "year=int(input(\"Enter the the year\"))\n",
    "# Find the Given year is leap year or not using functions\n",
    "if(year%400==0 or (year%100!=0 and year%4==0)) :\n",
    "    print(True)\n",
    "else:\n",
    "    print(False)\n",
    " "
   ]
  },
  {
   "cell_type": "code",
   "execution_count": 193,
   "metadata": {},
   "outputs": [
    {
     "name": "stdout",
     "output_type": "stream",
     "text": [
      "Enter the Lb1900\n",
      "Enter the Up2020\n",
      "1 Leap years are : 1904\n",
      "2 Leap years are : 1908\n",
      "3 Leap years are : 1912\n",
      "4 Leap years are : 1916\n",
      "5 Leap years are : 1920\n",
      "6 Leap years are : 1924\n",
      "7 Leap years are : 1928\n",
      "8 Leap years are : 1932\n",
      "9 Leap years are : 1936\n",
      "10 Leap years are : 1940\n",
      "11 Leap years are : 1944\n",
      "12 Leap years are : 1948\n",
      "13 Leap years are : 1952\n",
      "14 Leap years are : 1956\n",
      "15 Leap years are : 1960\n",
      "16 Leap years are : 1964\n",
      "17 Leap years are : 1968\n",
      "18 Leap years are : 1972\n",
      "19 Leap years are : 1976\n",
      "20 Leap years are : 1980\n",
      "21 Leap years are : 1984\n",
      "22 Leap years are : 1988\n",
      "23 Leap years are : 1992\n",
      "24 Leap years are : 1996\n",
      "25 Leap years are : 2000\n",
      "26 Leap years are : 2004\n",
      "27 Leap years are : 2008\n",
      "28 Leap years are : 2012\n",
      "29 Leap years are : 2016\n",
      "30 Leap years are : 2020\n"
     ]
    }
   ],
   "source": [
    "st=int(input(\"Enter the Lb\"))#2000\n",
    "end=int(input(\"Enter the Up\"))#2020\n",
    "def isLeapYear(st,end):\n",
    "    c=0\n",
    "    for i in range(st,end+1):\n",
    "        if(i%400==0 or (i%100!=0 and i%4==0) ):\n",
    "            c=c+1\n",
    "            print(c,\"Leap years are :\",i)\n",
    "isLeapYear(st,end)\n",
    "\n"
   ]
  },
  {
   "cell_type": "code",
   "execution_count": null,
   "metadata": {},
   "outputs": [],
   "source": []
  }
 ],
 "metadata": {
  "kernelspec": {
   "display_name": "Python 3",
   "language": "python",
   "name": "python3"
  },
  "language_info": {
   "codemirror_mode": {
    "name": "ipython",
    "version": 3
   },
   "file_extension": ".py",
   "mimetype": "text/x-python",
   "name": "python",
   "nbconvert_exporter": "python",
   "pygments_lexer": "ipython3",
   "version": "3.7.3"
  }
 },
 "nbformat": 4,
 "nbformat_minor": 2
}
