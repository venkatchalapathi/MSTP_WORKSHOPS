{
 "cells": [
  {
   "cell_type": "markdown",
   "metadata": {},
   "source": [
    "1. Lists\n",
    "2. tuples\n",
    "3. Dictionaries \n",
    "4. Regular expression\n",
    "5. Files"
   ]
  },
  {
   "cell_type": "code",
   "execution_count": 5,
   "metadata": {},
   "outputs": [
    {
     "data": {
      "text/plain": [
       "6"
      ]
     },
     "execution_count": 5,
     "metadata": {},
     "output_type": "execute_result"
    }
   ],
   "source": [
    "# List:\n",
    "    \n",
    "    \n",
    "list1=[1,2,3,4,5,56]\n",
    "list2=[1,'c',\"vijay\",3.9]\n",
    "len(list1)\n",
    "\n",
    "for i in range(len(list1):\n",
    "\n",
    "\n"
   ]
  },
  {
   "cell_type": "code",
   "execution_count": 16,
   "metadata": {},
   "outputs": [
    {
     "data": {
      "text/plain": [
       "['__add__',\n",
       " '__class__',\n",
       " '__contains__',\n",
       " '__delattr__',\n",
       " '__delitem__',\n",
       " '__dir__',\n",
       " '__doc__',\n",
       " '__eq__',\n",
       " '__format__',\n",
       " '__ge__',\n",
       " '__getattribute__',\n",
       " '__getitem__',\n",
       " '__gt__',\n",
       " '__hash__',\n",
       " '__iadd__',\n",
       " '__imul__',\n",
       " '__init__',\n",
       " '__init_subclass__',\n",
       " '__iter__',\n",
       " '__le__',\n",
       " '__len__',\n",
       " '__lt__',\n",
       " '__mul__',\n",
       " '__ne__',\n",
       " '__new__',\n",
       " '__reduce__',\n",
       " '__reduce_ex__',\n",
       " '__repr__',\n",
       " '__reversed__',\n",
       " '__rmul__',\n",
       " '__setattr__',\n",
       " '__setitem__',\n",
       " '__sizeof__',\n",
       " '__str__',\n",
       " '__subclasshook__',\n",
       " 'append',\n",
       " 'clear',\n",
       " 'copy',\n",
       " 'count',\n",
       " 'extend',\n",
       " 'index',\n",
       " 'insert',\n",
       " 'pop',\n",
       " 'remove',\n",
       " 'reverse',\n",
       " 'sort']"
      ]
     },
     "execution_count": 16,
     "metadata": {},
     "output_type": "execute_result"
    }
   ],
   "source": [
    "dir(list)"
   ]
  },
  {
   "cell_type": "code",
   "execution_count": 42,
   "metadata": {},
   "outputs": [
    {
     "data": {
      "text/plain": [
       "[7, 6, 5, 5, 3, 3, 2, 1]"
      ]
     },
     "execution_count": 42,
     "metadata": {},
     "output_type": "execute_result"
    }
   ],
   "source": [
    "list1=[1,2,3,4,5,56]\n",
    "list2=[1,'c',\"vijay\",3.9]\n",
    "len(list1)\n",
    "\n",
    "# for i in range(0,len(list2)):\n",
    "#     print(list2[i],end=\" \")\n",
    "# dir(list)\n",
    "list1.append(70)\n",
    "list1\n",
    "\n",
    "l=list1.copy()\n",
    "list1.append(30)\n",
    "l=[1,2,3,4,5,1,2,1,1,1,1,5,3,3,8]\n",
    "l.count(8)\n",
    "# for i in range(len(l)):\n",
    "#     print(l[i],\"--->\",l.count(l[i]))\n",
    "list1.index(30)\n",
    "list1.insert(7,60)\n",
    "list1.pop()\n",
    "list1.reverse()\n",
    "list1.sort()\n",
    "list1=[3,5,6,7,2,5,3,1]\n",
    "list1.sort()\n",
    "list1.sort(reverse=True)\n",
    "list1"
   ]
  },
  {
   "cell_type": "code",
   "execution_count": 45,
   "metadata": {},
   "outputs": [
    {
     "name": "stdout",
     "output_type": "stream",
     "text": [
      "[1, 2, 5]\n"
     ]
    }
   ],
   "source": [
    "list1=[1,2,5,6,6]\n",
    "dir(list1)\n",
    "list1.pop()\n",
    "list1.pop()\n",
    "print(list1)"
   ]
  },
  {
   "cell_type": "code",
   "execution_count": 65,
   "metadata": {},
   "outputs": [
    {
     "name": "stdout",
     "output_type": "stream",
     "text": [
      "[401, 402, 404, 405, 406, 409]\n",
      "[407, 408, 412, 410, 411, 403, 413]\n",
      "[401, 402, 404, 405, 406, 409, 407, 408, 412, 410, 411, 403, 413]\n"
     ]
    }
   ],
   "source": [
    "student=[401,402,404,409,405,406,407,408,412,410,411,403,413]\n",
    "sh=len(student)//2\n",
    "student1=[]\n",
    "student2=[]\n",
    "for i in range(sh):\n",
    "    student1.append(student[i])\n",
    "for i in range(sh,len(student)):\n",
    "    student2.append(student[i])\n",
    "std1=student1.sort()\n",
    "std1=student1.copy()\n",
    "print(student1)\n",
    "print(student2)\n",
    "student1.extend(student2)\n",
    "print(student1)"
   ]
  },
  {
   "cell_type": "code",
   "execution_count": 66,
   "metadata": {},
   "outputs": [
    {
     "name": "stdout",
     "output_type": "stream",
     "text": [
      "[407, 408, 412, 410, 411, 403, 413]\n",
      "[401, 402, 404, 409, 405, 406, 403, 407, 408, 410, 411, 412, 413]\n"
     ]
    }
   ],
   "source": [
    "student=[401,402,404,409,405,406,407,408,412,410,411,403,413]\n",
    "sh=len(student)//2\n",
    "student1=[]\n",
    "student2=[]\n",
    "for i in range(sh,len(student)):\n",
    "    student2.append(student[i])\n",
    "for i in range(sh):\n",
    "    student1.append(student[i])\n",
    "print(student2)\n",
    "std2=student2.sort()\n",
    "std2=student2.copy()\n",
    "student1.extend(student2)\n",
    "print(student1)\n"
   ]
  },
  {
   "cell_type": "code",
   "execution_count": 68,
   "metadata": {},
   "outputs": [
    {
     "name": "stdout",
     "output_type": "stream",
     "text": [
      "[401, 402, 404, 405, 406, 409]\n",
      "[403, 407, 408, 410, 411, 412, 413]\n",
      "[409, 406, 405, 404, 402, 401, 413, 412, 411, 410, 408, 407, 403]\n"
     ]
    }
   ],
   "source": [
    "print(std1)\n",
    "print(std2)\n",
    "std1.sort(reverse=True)\n",
    "std2.sort(reverse=True)\n",
    "std1.extend(std2)\n",
    "print(std1)"
   ]
  },
  {
   "cell_type": "code",
   "execution_count": 56,
   "metadata": {},
   "outputs": [
    {
     "data": {
      "text/plain": [
       "[401, 402, 403, 404, 405, 406, 407, 408, 409, 410, 411, 412, 413]"
      ]
     },
     "execution_count": 56,
     "metadata": {},
     "output_type": "execute_result"
    }
   ],
   "source": [
    "student=[401,402,404,409,405,406,407,408,412,410,411,403,413]\n",
    "student.sort()\n",
    "student"
   ]
  },
  {
   "cell_type": "code",
   "execution_count": 69,
   "metadata": {},
   "outputs": [
    {
     "data": {
      "text/plain": [
       "5291"
      ]
     },
     "execution_count": 69,
     "metadata": {},
     "output_type": "execute_result"
    }
   ],
   "source": [
    "sum(student)"
   ]
  },
  {
   "cell_type": "code",
   "execution_count": 70,
   "metadata": {},
   "outputs": [
    {
     "data": {
      "text/plain": [
       "413"
      ]
     },
     "execution_count": 70,
     "metadata": {},
     "output_type": "execute_result"
    }
   ],
   "source": [
    "max(student)"
   ]
  },
  {
   "cell_type": "code",
   "execution_count": 71,
   "metadata": {},
   "outputs": [
    {
     "data": {
      "text/plain": [
       "401"
      ]
     },
     "execution_count": 71,
     "metadata": {},
     "output_type": "execute_result"
    }
   ],
   "source": [
    "min(student)"
   ]
  },
  {
   "cell_type": "code",
   "execution_count": 73,
   "metadata": {},
   "outputs": [
    {
     "data": {
      "text/plain": [
       "[0, 1, 2, 5, 7, 9]"
      ]
     },
     "execution_count": 73,
     "metadata": {},
     "output_type": "execute_result"
    }
   ],
   "source": [
    "l=[5,7,1,2,9,0]\n",
    "l.sort()\n",
    "l"
   ]
  },
  {
   "cell_type": "code",
   "execution_count": 75,
   "metadata": {},
   "outputs": [
    {
     "data": {
      "text/plain": [
       "7"
      ]
     },
     "execution_count": 75,
     "metadata": {},
     "output_type": "execute_result"
    }
   ],
   "source": [
    "l[len(l)-2]"
   ]
  },
  {
   "cell_type": "code",
   "execution_count": 97,
   "metadata": {},
   "outputs": [
    {
     "data": {
      "text/plain": [
       "['__class__',\n",
       " '__contains__',\n",
       " '__delattr__',\n",
       " '__delitem__',\n",
       " '__dir__',\n",
       " '__doc__',\n",
       " '__eq__',\n",
       " '__format__',\n",
       " '__ge__',\n",
       " '__getattribute__',\n",
       " '__getitem__',\n",
       " '__gt__',\n",
       " '__hash__',\n",
       " '__init__',\n",
       " '__init_subclass__',\n",
       " '__iter__',\n",
       " '__le__',\n",
       " '__len__',\n",
       " '__lt__',\n",
       " '__ne__',\n",
       " '__new__',\n",
       " '__reduce__',\n",
       " '__reduce_ex__',\n",
       " '__repr__',\n",
       " '__setattr__',\n",
       " '__setitem__',\n",
       " '__sizeof__',\n",
       " '__str__',\n",
       " '__subclasshook__',\n",
       " 'clear',\n",
       " 'copy',\n",
       " 'fromkeys',\n",
       " 'get',\n",
       " 'items',\n",
       " 'keys',\n",
       " 'pop',\n",
       " 'popitem',\n",
       " 'setdefault',\n",
       " 'update',\n",
       " 'values']"
      ]
     },
     "execution_count": 97,
     "metadata": {},
     "output_type": "execute_result"
    }
   ],
   "source": [
    "data=(4,7,8,9,0,2,46,8)\n",
    "data[1]\n",
    "sum(data)\n",
    "min(data)\n",
    "max(data)\n",
    "data.index(9)\n",
    "\n",
    "data={\"std1\":\"vijay\",\"std2\":\"kumar\",\"std3\":\"manoj\",\"std4\":\"muni\"}\n",
    "data[\"std1\"]"
   ]
  },
  {
   "cell_type": "code",
   "execution_count": 78,
   "metadata": {},
   "outputs": [
    {
     "data": {
      "text/plain": [
       "['__add__',\n",
       " '__class__',\n",
       " '__contains__',\n",
       " '__delattr__',\n",
       " '__dir__',\n",
       " '__doc__',\n",
       " '__eq__',\n",
       " '__format__',\n",
       " '__ge__',\n",
       " '__getattribute__',\n",
       " '__getitem__',\n",
       " '__getnewargs__',\n",
       " '__gt__',\n",
       " '__hash__',\n",
       " '__init__',\n",
       " '__init_subclass__',\n",
       " '__iter__',\n",
       " '__le__',\n",
       " '__len__',\n",
       " '__lt__',\n",
       " '__mul__',\n",
       " '__ne__',\n",
       " '__new__',\n",
       " '__reduce__',\n",
       " '__reduce_ex__',\n",
       " '__repr__',\n",
       " '__rmul__',\n",
       " '__setattr__',\n",
       " '__sizeof__',\n",
       " '__str__',\n",
       " '__subclasshook__',\n",
       " 'count',\n",
       " 'index']"
      ]
     },
     "execution_count": 78,
     "metadata": {},
     "output_type": "execute_result"
    }
   ],
   "source": [
    "dir(tuple)"
   ]
  },
  {
   "cell_type": "markdown",
   "metadata": {},
   "source": [
    "##  Ditctionaries \n",
    "* It will contains set of Unique Data\n",
    "* Data contains in the form of 'Key' and 'Value \n",
    "* Reprasents like as  { }"
   ]
  },
  {
   "cell_type": "code",
   "execution_count": 98,
   "metadata": {},
   "outputs": [
    {
     "data": {
      "text/plain": [
       "['__class__',\n",
       " '__contains__',\n",
       " '__delattr__',\n",
       " '__delitem__',\n",
       " '__dir__',\n",
       " '__doc__',\n",
       " '__eq__',\n",
       " '__format__',\n",
       " '__ge__',\n",
       " '__getattribute__',\n",
       " '__getitem__',\n",
       " '__gt__',\n",
       " '__hash__',\n",
       " '__init__',\n",
       " '__init_subclass__',\n",
       " '__iter__',\n",
       " '__le__',\n",
       " '__len__',\n",
       " '__lt__',\n",
       " '__ne__',\n",
       " '__new__',\n",
       " '__reduce__',\n",
       " '__reduce_ex__',\n",
       " '__repr__',\n",
       " '__setattr__',\n",
       " '__setitem__',\n",
       " '__sizeof__',\n",
       " '__str__',\n",
       " '__subclasshook__',\n",
       " 'clear',\n",
       " 'copy',\n",
       " 'fromkeys',\n",
       " 'get',\n",
       " 'items',\n",
       " 'keys',\n",
       " 'pop',\n",
       " 'popitem',\n",
       " 'setdefault',\n",
       " 'update',\n",
       " 'values']"
      ]
     },
     "execution_count": 98,
     "metadata": {},
     "output_type": "execute_result"
    }
   ],
   "source": [
    "dir(dict)"
   ]
  },
  {
   "cell_type": "code",
   "execution_count": 106,
   "metadata": {},
   "outputs": [
    {
     "name": "stdout",
     "output_type": "stream",
     "text": [
      "{'c1': 123456, 'c2': 98765, 'c3': 7869}\n",
      "dict_keys(['c1', 'c2', 'c3'])\n",
      "dict_values([123456, 98765, 7869])\n",
      "7869\n",
      "{'c1': 123456, 'c2': 98765}\n"
     ]
    }
   ],
   "source": [
    "contacts={'c1':123456,'c2':98765,'c3':7869}\n",
    "print(contacts)\n",
    "print(contacts.keys())\n",
    "print(contacts.values())\n",
    "print(contacts.pop('c3'))\n",
    "print(contacts)\n"
   ]
  },
  {
   "cell_type": "code",
   "execution_count": 116,
   "metadata": {},
   "outputs": [],
   "source": [
    "con={}"
   ]
  },
  {
   "cell_type": "code",
   "execution_count": 136,
   "metadata": {},
   "outputs": [
    {
     "name": "stdout",
     "output_type": "stream",
     "text": [
      "Added \n"
     ]
    }
   ],
   "source": [
    "#For Add contacts data in Dictionaray\n",
    "def addContacts(name,mobile,email):\n",
    "    if name not in con:\n",
    "        con[name]=mobile\n",
    "        print(\"Added \")\n",
    "    else:\n",
    "        print(\"Already Exists \")\n",
    "addContacts('ap','789')\n",
    "    "
   ]
  },
  {
   "cell_type": "code",
   "execution_count": 132,
   "metadata": {},
   "outputs": [
    {
     "data": {
      "text/plain": [
       "{}"
      ]
     },
     "execution_count": 132,
     "metadata": {},
     "output_type": "execute_result"
    }
   ],
   "source": [
    "con.clear()\n",
    "con"
   ]
  },
  {
   "cell_type": "code",
   "execution_count": 139,
   "metadata": {},
   "outputs": [
    {
     "name": "stdout",
     "output_type": "stream",
     "text": [
      "vijay --> 212112112\n",
      "ap --> 1234\n"
     ]
    }
   ],
   "source": [
    "# For Retriving Data from Dictionary\n",
    "def listAllContacts(d):\n",
    "    if len(con)==0:\n",
    "        print(\"Empty List\")\n",
    "    else:\n",
    "        for i in d:\n",
    "            print(i,\"-->\",d[i])\n",
    "listAllContacts(con)"
   ]
  },
  {
   "cell_type": "code",
   "execution_count": 138,
   "metadata": {
    "scrolled": true
   },
   "outputs": [
    {
     "name": "stdout",
     "output_type": "stream",
     "text": [
      "Update mobile num.. 212112112\n",
      "Contact updates successfully..\n"
     ]
    }
   ],
   "source": [
    "#For update Contacts\n",
    "def updateContact(name):\n",
    "    if name in con:\n",
    "        mobile=int(input(\"Update mobile num.. \"))\n",
    "        con[name]=mobile\n",
    "        print(\"Contact updates successfully..\")\n",
    "    else:\n",
    "        print(\"Name not found\")\n",
    "updateContact(\"vijay\")\n",
    "        "
   ]
  },
  {
   "cell_type": "code",
   "execution_count": 142,
   "metadata": {},
   "outputs": [
    {
     "name": "stdout",
     "output_type": "stream",
     "text": [
      "Deleted ..\n"
     ]
    }
   ],
   "source": [
    "#Delete Contact from Dic\n",
    "def deleteContact(name):\n",
    "    if name in con:\n",
    "        con.pop(name)\n",
    "        print(\"Deleted ..\")\n",
    "    else:\n",
    "        print(\"Name Not found\")\n",
    "deleteContact('vijay')"
   ]
  },
  {
   "cell_type": "code",
   "execution_count": 146,
   "metadata": {},
   "outputs": [
    {
     "data": {
      "text/plain": [
       "{'ap': 1234}"
      ]
     },
     "execution_count": 146,
     "metadata": {},
     "output_type": "execute_result"
    }
   ],
   "source": [
    "con"
   ]
  },
  {
   "cell_type": "markdown",
   "metadata": {},
   "source": [
    "### Task\n",
    "### ContactsApp\n",
    "* Take five inputs :\n",
    "    - Print(\"1\")-Add Contacts\n",
    "    - print(\"2\")-List the all contacts\n",
    "    - print(\"3\")-Update the contacts\n",
    "    - print(\"4\")-Delete the contact\n",
    "    - print(\"5\")-Exit\n",
    "            \n"
   ]
  },
  {
   "cell_type": "code",
   "execution_count": 150,
   "metadata": {},
   "outputs": [
    {
     "name": "stdout",
     "output_type": "stream",
     "text": [
      "1.Add Contacts\n",
      "2.List of all Contacts\n",
      "3.Update Contact\n",
      "4.Delete contact\n",
      "5.Exit\n",
      "1\n",
      "Added \n",
      "1.Add Contacts\n",
      "2.List of all Contacts\n",
      "3.Update Contact\n",
      "4.Delete contact\n",
      "5.Exit\n",
      "2\n",
      "apssdc --> 14\n",
      "sistk --> 10\n",
      "1.Add Contacts\n",
      "2.List of all Contacts\n",
      "3.Update Contact\n",
      "4.Delete contact\n",
      "5.Exit\n",
      "5\n"
     ]
    },
    {
     "data": {
      "text/plain": [
       "True"
      ]
     },
     "execution_count": 150,
     "metadata": {},
     "output_type": "execute_result"
    }
   ],
   "source": [
    "def contactsApp():    \n",
    "    while True:\n",
    "        print(\"1.Add Contacts\")\n",
    "        print(\"2.List of all Contacts\")\n",
    "        print(\"3.Update Contact\")\n",
    "        print(\"4.Delete contact\")\n",
    "        print(\"5.Exit\")\n",
    "        n=int(input())\n",
    "        if n==1:\n",
    "            addContacts(\"sistk\",10)\n",
    "        elif n==2:\n",
    "            listAllContacts(con)\n",
    "        elif n==3:\n",
    "            updateContact('ap')\n",
    "        elif n==4:\n",
    "            deleteContact('ap')\n",
    "        elif n==5:\n",
    "            return True\n",
    "contactsApp()\n",
    "        \n",
    "\n",
    "        \n",
    "    \n",
    "    "
   ]
  },
  {
   "cell_type": "markdown",
   "metadata": {},
   "source": [
    "# Modules And Packages"
   ]
  },
  {
   "cell_type": "code",
   "execution_count": 155,
   "metadata": {},
   "outputs": [
    {
     "name": "stdout",
     "output_type": "stream",
     "text": [
      "Ceil of: 3.45678 is: 4\n",
      "Floor of: 3.45678 is: 3\n"
     ]
    }
   ],
   "source": [
    "# Module: A single python python file or a software \n",
    "#         Which contains group of function\n",
    "# Example: random,math,matplot.pyplot\n",
    "\n",
    "# Packages: Group of modules\n",
    "# Examples:matplot,pandas,numpy\n",
    "# \n",
    "# 1.Predefined\n",
    "# 2.User defined\n",
    "\n",
    "# 1.Predefined\n",
    "import math \n",
    "\n",
    "# dir(math)\n",
    "n = 3.45678\n",
    "print(\"Ceil of:\",n,\"is:\",math.ceil(n))\n",
    "print(\"Floor of:\",n,\"is:\",math.floor(n))"
   ]
  },
  {
   "cell_type": "code",
   "execution_count": 162,
   "metadata": {},
   "outputs": [
    {
     "name": "stdout",
     "output_type": "stream",
     "text": [
      "2\n"
     ]
    }
   ],
   "source": [
    "# random\n",
    "import random\n",
    "\n",
    "n = random.randint(1,10)# generates random\n",
    "     #                 number in between lb-ub\n",
    "print(n)"
   ]
  },
  {
   "cell_type": "code",
   "execution_count": null,
   "metadata": {},
   "outputs": [],
   "source": [
    "# 2.User Defined Modules\n",
    "# define a function that checks the given number \n",
    "# is prime or not\n"
   ]
  },
  {
   "cell_type": "code",
   "execution_count": 168,
   "metadata": {},
   "outputs": [
    {
     "data": {
      "text/plain": [
       "False"
      ]
     },
     "execution_count": 168,
     "metadata": {},
     "output_type": "execute_result"
    }
   ],
   "source": [
    "# 1.read input\n",
    "# 2.find factors count\n",
    "# 3.factors count > 2 : return False\n",
    "# 3.factors count<=2 : return True\n",
    "\n",
    "def isPrime(n):\n",
    "    count = 0\n",
    "    for i in range(1,n+1):\n",
    "        if n%i==0:\n",
    "            count=count+1\n",
    "    if count==2:\n",
    "        return True\n",
    "    else:\n",
    "        return False\n",
    "isPrime(20)"
   ]
  },
  {
   "cell_type": "code",
   "execution_count": 169,
   "metadata": {},
   "outputs": [
    {
     "data": {
      "text/plain": [
       "True"
      ]
     },
     "execution_count": 169,
     "metadata": {},
     "output_type": "execute_result"
    }
   ],
   "source": [
    "import apssdc\n",
    "\n",
    "apssdc.isPrime(13)"
   ]
  },
  {
   "cell_type": "code",
   "execution_count": 171,
   "metadata": {},
   "outputs": [
    {
     "name": "stdout",
     "output_type": "stream",
     "text": [
      "2 3 5 7 11 13 17 19 23 29 31 37 41 43 47 53 59 61 67 71 73 79 83 89 97 "
     ]
    }
   ],
   "source": [
    "# generate prime numbers \n",
    "# b/w 1 - 100\n",
    "for i in range(1,101):\n",
    "    if isPrime(i):\n",
    "        print(i,end=\" \")"
   ]
  },
  {
   "cell_type": "code",
   "execution_count": 172,
   "metadata": {},
   "outputs": [
    {
     "name": "stdout",
     "output_type": "stream",
     "text": [
      "2 3 5 7 11 13 17 19 23 29 31 37 41 43 47 53 59 61 67 71 73 79 83 89 97 "
     ]
    }
   ],
   "source": [
    "import apssdc\n",
    "for i in range(1,101):\n",
    "    if apssdc.isPrime(i):\n",
    "        print(i,end=\" \")"
   ]
  },
  {
   "cell_type": "code",
   "execution_count": null,
   "metadata": {},
   "outputs": [],
   "source": [
    "# 1.take any string from the user \n",
    "#   and prints opposite case\n",
    "#  input: ADFsef\n",
    "#  output:  adfSEF\n",
    "\n",
    "# 2.difine a function that prints multplication\n",
    "#   table\n",
    "#  input: 10\n",
    "#  output:  10*1=10\n",
    "#           10*2=20\n",
    "#           10*3=30\n",
    "#           ....\n",
    "\n",
    "# 3.take space seperated values from the user \n",
    "#   and find no of occurences \n",
    "#\n"
   ]
  },
  {
   "cell_type": "code",
   "execution_count": null,
   "metadata": {},
   "outputs": [],
   "source": []
  },
  {
   "cell_type": "code",
   "execution_count": null,
   "metadata": {},
   "outputs": [],
   "source": []
  },
  {
   "cell_type": "code",
   "execution_count": null,
   "metadata": {},
   "outputs": [],
   "source": []
  },
  {
   "cell_type": "code",
   "execution_count": null,
   "metadata": {},
   "outputs": [],
   "source": []
  },
  {
   "cell_type": "code",
   "execution_count": null,
   "metadata": {},
   "outputs": [],
   "source": []
  },
  {
   "cell_type": "code",
   "execution_count": null,
   "metadata": {},
   "outputs": [],
   "source": []
  },
  {
   "cell_type": "code",
   "execution_count": null,
   "metadata": {},
   "outputs": [],
   "source": []
  },
  {
   "cell_type": "code",
   "execution_count": null,
   "metadata": {},
   "outputs": [],
   "source": []
  },
  {
   "cell_type": "code",
   "execution_count": null,
   "metadata": {},
   "outputs": [],
   "source": []
  },
  {
   "cell_type": "code",
   "execution_count": null,
   "metadata": {},
   "outputs": [],
   "source": []
  },
  {
   "cell_type": "code",
   "execution_count": null,
   "metadata": {},
   "outputs": [],
   "source": []
  },
  {
   "cell_type": "code",
   "execution_count": null,
   "metadata": {},
   "outputs": [],
   "source": []
  }
 ],
 "metadata": {
  "kernelspec": {
   "display_name": "Python 3",
   "language": "python",
   "name": "python3"
  },
  "language_info": {
   "codemirror_mode": {
    "name": "ipython",
    "version": 3
   },
   "file_extension": ".py",
   "mimetype": "text/x-python",
   "name": "python",
   "nbconvert_exporter": "python",
   "pygments_lexer": "ipython3",
   "version": "3.7.3"
  }
 },
 "nbformat": 4,
 "nbformat_minor": 2
}
