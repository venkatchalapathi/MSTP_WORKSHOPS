{
 "cells": [
  {
   "cell_type": "code",
   "execution_count": 9,
   "metadata": {},
   "outputs": [
    {
     "name": "stdout",
     "output_type": "stream",
     "text": [
      "Enter No of Test cases To Run Your Program3\n",
      "1\n",
      "10\n",
      "5\n",
      "5 10 15 20 25 30 35 40 45 50 1\n",
      "10\n",
      "6\n",
      "6 12 18 24 30 36 42 48 54 60 1\n",
      "10\n",
      "7\n",
      "7 14 21 28 35 42 49 56 63 70 "
     ]
    }
   ],
   "source": [
    "### 5 table\n",
    "# input:1 10 5\n",
    "# output:5 10 15.....\n",
    "test_cases=int(input(\"Enter No of Test cases To Run Your Program\"))#5\n",
    "for i in range(test_cases):\n",
    "    start=int(input())\n",
    "    end=int(input())\n",
    "    n=int(input()) \n",
    "    for i in range(start,end+1):\n",
    "        print(n*i,end=\" \")\n"
   ]
  },
  {
   "cell_type": "code",
   "execution_count": 13,
   "metadata": {},
   "outputs": [
    {
     "name": "stdout",
     "output_type": "stream",
     "text": [
      "Enter Your No of Photos :1\n",
      "Enter Length :180\n",
      "Enter Height :120\n",
      "Enter Width :180\n",
      "Upload Another Pic\n"
     ]
    }
   ],
   "source": [
    "# Profile pic with testcases\n",
    "t=int(input(\"Enter Your No of Photos :\"))\n",
    "l=int(input(\"Enter Length :\"))\n",
    "for i in range(t):\n",
    "    h=int(input(\"Enter Height :\"))\n",
    "    w=int(input(\"Enter Width :\"))\n",
    "    if(h>=l and w>=l):\n",
    "        if(h==w):\n",
    "            print(\"Accepted\")\n",
    "        else:\n",
    "            print(\"Crop It\")\n",
    "    else:\n",
    "        print(\"Upload Another Pic\")\n",
    "        "
   ]
  },
  {
   "cell_type": "code",
   "execution_count": 15,
   "metadata": {},
   "outputs": [
    {
     "name": "stdout",
     "output_type": "stream",
     "text": [
      "10\n",
      "1 2 3 4 5 6 7 8 9 10 "
     ]
    }
   ],
   "source": [
    "# initialization\n",
    "# while(condition):\n",
    "#     statements\n",
    "#     incre/decre\n",
    "# Natural Numbers for given Number\n",
    "n=int(input())\n",
    "i=1# initialization\n",
    "while(i<=n):\n",
    "    print(i,end=\" \")\n",
    "    i=i+1\n",
    "\n"
   ]
  },
  {
   "cell_type": "code",
   "execution_count": 17,
   "metadata": {},
   "outputs": [
    {
     "name": "stdout",
     "output_type": "stream",
     "text": [
      "1\n",
      "15\n",
      "2\n",
      "0 1 1 2 2 3 3 4 4 5 5 6 6 7 7 "
     ]
    }
   ],
   "source": [
    "# input: 1 15 2\n",
    "#output:0 1 1 2 2 3 3 ....\n",
    "# hint :1//2 2//2 3//2 ...\n",
    "s=int(input())\n",
    "e=int(input())\n",
    "d=int(input())\n",
    "while(s<=e):\n",
    "    print(s//d,end=\" \")\n",
    "    s=s+1\n",
    "    "
   ]
  },
  {
   "cell_type": "code",
   "execution_count": 21,
   "metadata": {},
   "outputs": [
    {
     "name": "stdout",
     "output_type": "stream",
     "text": [
      "Enter no of Test Cases :4\n",
      "5432\n",
      "Digit Count is  4\n",
      "87654\n",
      "Digit Count is  5\n",
      "23456789\n",
      "Digit Count is  8\n",
      "87654567876543\n",
      "Digit Count is  14\n"
     ]
    }
   ],
   "source": [
    "# input:46783\n",
    "# output:5\n",
    "t=int(input(\"Enter no of Test Cases :\"))\n",
    "for i in range(t):\n",
    "    n=int(input())# 46783\n",
    "    count=0\n",
    "    while(n!=0):#(46783!=0)(T),4678!=0(T),467!=0(T),46!=0(T),4!=0(T),0!=0(F)\n",
    "        count=count+1# 1,2,3,4,5\n",
    "        n=n//10 #--->46783//10 -->4678,4678//10-->467,467//10-->46,46//10-->4,4//10 -->0\n",
    "    print(\"Digit Count is \",count)"
   ]
  },
  {
   "cell_type": "markdown",
   "metadata": {},
   "source": [
    "## Python Strings.."
   ]
  },
  {
   "cell_type": "code",
   "execution_count": 11,
   "metadata": {},
   "outputs": [
    {
     "data": {
      "text/plain": [
       "6"
      ]
     },
     "execution_count": 11,
     "metadata": {},
     "output_type": "execute_result"
    }
   ],
   "source": [
    "s='apssdc'\n",
    "len(s)"
   ]
  },
  {
   "cell_type": "code",
   "execution_count": 13,
   "metadata": {},
   "outputs": [
    {
     "data": {
      "text/plain": [
       "13"
      ]
     },
     "execution_count": 13,
     "metadata": {},
     "output_type": "execute_result"
    }
   ],
   "source": [
    "s1='Hello Apssdc!'\n",
    "len(s1)"
   ]
  },
  {
   "cell_type": "code",
   "execution_count": 17,
   "metadata": {},
   "outputs": [
    {
     "name": "stdout",
     "output_type": "stream",
     "text": [
      "e\n",
      "Apssdc\n"
     ]
    }
   ],
   "source": [
    "print(s1[1])\n",
    "print(s1[6:12])"
   ]
  },
  {
   "cell_type": "code",
   "execution_count": null,
   "metadata": {},
   "outputs": [],
   "source": [
    "#Stirngs Slicing\n"
   ]
  }
 ],
 "metadata": {
  "kernelspec": {
   "display_name": "Python 3",
   "language": "python",
   "name": "python3"
  },
  "language_info": {
   "codemirror_mode": {
    "name": "ipython",
    "version": 3
   },
   "file_extension": ".py",
   "mimetype": "text/x-python",
   "name": "python",
   "nbconvert_exporter": "python",
   "pygments_lexer": "ipython3",
   "version": "3.7.3"
  }
 },
 "nbformat": 4,
 "nbformat_minor": 2
}
