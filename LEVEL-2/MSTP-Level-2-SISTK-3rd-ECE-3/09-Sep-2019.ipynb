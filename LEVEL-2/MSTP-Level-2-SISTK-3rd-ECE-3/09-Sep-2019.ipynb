{
 "cells": [
  {
   "cell_type": "markdown",
   "metadata": {},
   "source": [
    "# Regular Expressions"
   ]
  },
  {
   "cell_type": "markdown",
   "metadata": {},
   "source": [
    "## Regular Expressions\n",
    "\n",
    "- ^  : Starts with\n",
    "- $  : Ends with \n",
    "- [] : char set\n",
    "- {} : Range set\n",
    "- a-z: char in between a to z\n",
    "- A-Z: char in between A to Z\n",
    "- 0-9: char in between 0 to 9\n",
    "- *  : mulple of\n",
    "\n"
   ]
  },
  {
   "cell_type": "code",
   "execution_count": null,
   "metadata": {},
   "outputs": [],
   "source": [
    "# Task-1:\n",
    "# number starts with 1 and ends with 9\n",
    "# it is a 2 digit number\n",
    "# RE:^[1][9]$\n",
    "\n",
    "#Task-2:\n",
    "# A 3-digit number \n",
    "# number starts with 0\n",
    "# ends with 5\n",
    "#Ex:015,025,035..\n",
    "#RE:^[0][0-9][5]$\n",
    "\n",
    "#Task-3:\n",
    "#4-digit number\n",
    "#2nd digit should be a 7\n",
    "#last digit should be 1\n",
    "#0791,0701,1711\n",
    "\n",
    "#RE:^[0-9][7][0-9][1]$\n",
    "\n",
    "#Task-5:\n",
    "#write a pattern to match even numbers\n",
    "#RE:[0-9]*[02468]$\n",
    "\n",
    "#Task-6:\n",
    "# write a pattern to match odd numbers\n",
    "#RE:[0-9]*[13579]$\n",
    "\n",
    "#Task-7:\n",
    "# write a pattern that matches multiple of 5\n",
    "#Example:5 15,20,245,230,47700...\n",
    "#RE:[0-9]*[05]$\n",
    "\n",
    "#Task-8:\n",
    "#write a pattern that matches multiple of 10\n",
    "#Example:10,100,230,2324230\n",
    "#eXP: [0-9]*[0]$\n",
    "\n",
    "#Task-9:\n",
    "# Write a pattern that matches the indian mobile numbers\n",
    "# Example:9876543210,8976543210,7896543210,6789543210\n",
    "#RE:^[6-9][0-9]{9}$\n",
    "\n",
    "# add +91\n",
    "# RE:^[+][9][1][6-9][0-9]{9}$\n",
    "\n",
    "# For Roaming numbers\n",
    "# RE:^[0][6-9][0-9]{9}$\n",
    "\n",
    "\n",
    "# Mobile Validation:\n",
    "# ^[6-9][0-9]{9}$|^[+][9][1][6-9][0-9]{9}$|^[0][6-9][0-9]{9}$"
   ]
  },
  {
   "cell_type": "markdown",
   "metadata": {},
   "source": [
    "## E-mail Validation:\n"
   ]
  },
  {
   "cell_type": "code",
   "execution_count": null,
   "metadata": {},
   "outputs": [],
   "source": [
    "# example@gmail.com\n",
    "\n",
    "# example: User name\n",
    "# gmail  : Domain\n",
    "# com    : Extension\n",
    "\n",
    "\n",
    "# User name:\n",
    "#---------------\n",
    "# 1.user name length should be 8,15 {8,15}\n",
    "# 2.it can have special char ._#\n",
    "# 3.it can have digits and upper case letters\n",
    "\n",
    "#Example: venkat7_.   , muni.t234&\n",
    "# RE:^[a-zA-Z._#0-9]{8,15}$\n",
    "\n",
    "# Domain:\n",
    "#------------\n",
    "# 1.domain len should be 5,8\n",
    "# 2.it should not allows digits,special chars\n",
    "#    and Upper case\n",
    "\n",
    "#Ex: apssdc  gmail   yahoo  rediff\n",
    "# RE:^[a-z]{5,8}$\n",
    "\n",
    "#Extension:\n",
    "#-------------------\n",
    "#1.len should 2,4\n",
    "#2.it can have digits and small case letters\n",
    "\n",
    "#RE:^[a-z0-9]{2,4}$\n"
   ]
  },
  {
   "cell_type": "code",
   "execution_count": 2,
   "metadata": {},
   "outputs": [
    {
     "name": "stdout",
     "output_type": "stream",
     "text": [
      "Enter mobile number:455872368623729\n",
      "455872368623729 is invalid...\n"
     ]
    }
   ],
   "source": [
    "# Using Regular Expressions in Python\n",
    "\n",
    "import re \n",
    "pattern = \"^[6-9][0-9]{9}$|^[+][9][1][6-9][0-9]{9}$|^[0][6-9][0-9]{9}$\"\n",
    "mobile = input(\"Enter mobile number:\")\n",
    "if re.match(pattern,mobile):\n",
    "    print(mobile,\"is Valid...\")\n",
    "else:\n",
    "    print(mobile,\"is invalid...\")\n",
    "\n",
    "# match(1,2) - pattern,input"
   ]
  },
  {
   "cell_type": "code",
   "execution_count": null,
   "metadata": {},
   "outputs": [],
   "source": []
  },
  {
   "cell_type": "markdown",
   "metadata": {},
   "source": [
    "## Sets in python"
   ]
  },
  {
   "cell_type": "code",
   "execution_count": 13,
   "metadata": {},
   "outputs": [
    {
     "data": {
      "text/plain": [
       "{'a', 'c', 'd', 'p', 's'}"
      ]
     },
     "execution_count": 13,
     "metadata": {},
     "output_type": "execute_result"
    }
   ],
   "source": [
    "s={1,2,3,5,6,5}\n",
    "s\n",
    "d=(1,3,4,5)\n",
    "d\n",
    "s.discard(1)\n",
    "s.intersection(s2)\n",
    "s.union(s2)\n",
    "st=(\"apssdc\")\n",
    "set(st)"
   ]
  },
  {
   "cell_type": "code",
   "execution_count": 6,
   "metadata": {},
   "outputs": [
    {
     "data": {
      "text/plain": [
       "{2, 6}"
      ]
     },
     "execution_count": 6,
     "metadata": {},
     "output_type": "execute_result"
    }
   ],
   "source": [
    "s2={10,20,30,5,1,3}\n",
    "s2\n",
    "s.difference(s2)"
   ]
  },
  {
   "cell_type": "code",
   "execution_count": 4,
   "metadata": {},
   "outputs": [
    {
     "data": {
      "text/plain": [
       "['__and__',\n",
       " '__class__',\n",
       " '__contains__',\n",
       " '__delattr__',\n",
       " '__dir__',\n",
       " '__doc__',\n",
       " '__eq__',\n",
       " '__format__',\n",
       " '__ge__',\n",
       " '__getattribute__',\n",
       " '__gt__',\n",
       " '__hash__',\n",
       " '__iand__',\n",
       " '__init__',\n",
       " '__init_subclass__',\n",
       " '__ior__',\n",
       " '__isub__',\n",
       " '__iter__',\n",
       " '__ixor__',\n",
       " '__le__',\n",
       " '__len__',\n",
       " '__lt__',\n",
       " '__ne__',\n",
       " '__new__',\n",
       " '__or__',\n",
       " '__rand__',\n",
       " '__reduce__',\n",
       " '__reduce_ex__',\n",
       " '__repr__',\n",
       " '__ror__',\n",
       " '__rsub__',\n",
       " '__rxor__',\n",
       " '__setattr__',\n",
       " '__sizeof__',\n",
       " '__str__',\n",
       " '__sub__',\n",
       " '__subclasshook__',\n",
       " '__xor__',\n",
       " 'add',\n",
       " 'clear',\n",
       " 'copy',\n",
       " 'difference',\n",
       " 'difference_update',\n",
       " 'discard',\n",
       " 'intersection',\n",
       " 'intersection_update',\n",
       " 'isdisjoint',\n",
       " 'issubset',\n",
       " 'issuperset',\n",
       " 'pop',\n",
       " 'remove',\n",
       " 'symmetric_difference',\n",
       " 'symmetric_difference_update',\n",
       " 'union',\n",
       " 'update']"
      ]
     },
     "execution_count": 4,
     "metadata": {},
     "output_type": "execute_result"
    }
   ],
   "source": [
    "dir(set)"
   ]
  },
  {
   "cell_type": "code",
   "execution_count": null,
   "metadata": {},
   "outputs": [],
   "source": [
    "#List Comprahenstion\n",
    "# It will return the list with code compare for loop\n"
   ]
  },
  {
   "cell_type": "code",
   "execution_count": 16,
   "metadata": {},
   "outputs": [
    {
     "name": "stdout",
     "output_type": "stream",
     "text": [
      "1 2 3 4 5 6 7 8 9 10 "
     ]
    }
   ],
   "source": [
    "# generate first 10 natural numbers \n",
    "for i in range(1,11):\n",
    "    print(i,end=' ')"
   ]
  },
  {
   "cell_type": "code",
   "execution_count": 17,
   "metadata": {},
   "outputs": [
    {
     "data": {
      "text/plain": [
       "[1, 2, 3, 4, 5, 6, 7, 8, 9, 10]"
      ]
     },
     "execution_count": 17,
     "metadata": {},
     "output_type": "execute_result"
    }
   ],
   "source": [
    "#List Comprahension \n",
    "[num for num in range(1,11) ]"
   ]
  },
  {
   "cell_type": "code",
   "execution_count": 19,
   "metadata": {},
   "outputs": [
    {
     "name": "stdout",
     "output_type": "stream",
     "text": [
      "[2, 4, 6, 8, 10, 12, 14, 16, 18, 20] "
     ]
    }
   ],
   "source": [
    "#Even Numbers \n",
    "lb,ub=1,20\n",
    "li=[i for i in range(lb,ub+1) if i%2==0 ]\n",
    "print(li,end=' ')"
   ]
  },
  {
   "cell_type": "code",
   "execution_count": 24,
   "metadata": {},
   "outputs": [
    {
     "name": "stdout",
     "output_type": "stream",
     "text": [
      "[1, 3, 5, 7, 9, 11, 13, 15, 17, 19] "
     ]
    }
   ],
   "source": [
    "#Odd Number \n",
    "lb,ub=1,20\n",
    "oddnum=[n for n in range(lb,ub+1) if n%2!=0 ]\n",
    "print(oddnum,end=' ')"
   ]
  },
  {
   "cell_type": "code",
   "execution_count": null,
   "metadata": {},
   "outputs": [],
   "source": [
    "#Task 1:\n",
    "#Function to check if a given year is a leap year\n",
    "#Task 2:Filter the prime number given range\n",
    "#Task 3:# Apply list comprehension to store the cubes \n",
    "#on n natural numbers"
   ]
  },
  {
   "cell_type": "code",
   "execution_count": 25,
   "metadata": {},
   "outputs": [
    {
     "name": "stdout",
     "output_type": "stream",
     "text": [
      "[8, 64, 216, 512, 1000, 1728, 2744, 4096, 5832, 8000] "
     ]
    }
   ],
   "source": [
    "#Task 3:Even Numbers cub\n",
    "lb,ub=1,20\n",
    "li=[i**3 for i in range(lb,ub+1) if i%2==0 ]\n",
    "print(li,end=' ')"
   ]
  },
  {
   "cell_type": "code",
   "execution_count": 30,
   "metadata": {},
   "outputs": [
    {
     "name": "stdout",
     "output_type": "stream",
     "text": [
      "[1972, 1976, 1980, 1984, 1988] "
     ]
    }
   ],
   "source": [
    "#Task 1:\n",
    "#Find the given year leap year or not\n",
    "def isLeapYear(n):\n",
    "    if (n%400==0 or (n%100!=0 and n%4==0) ):\n",
    "        return True\n",
    "    return False\n",
    "isLeapYear(2019)\n",
    "st,ed=1970,1990\n",
    "li=[year for year in range(st,ed+1) if isLeapYear(year)]\n",
    "print(li,end=' ')"
   ]
  },
  {
   "cell_type": "code",
   "execution_count": 36,
   "metadata": {},
   "outputs": [
    {
     "name": "stdout",
     "output_type": "stream",
     "text": [
      "[3, 5, 7, 11, 13, 17, 19, 23, 29, 31, 37, 41, 43, 47, 53, 59, 61, 67, 71, 73, 79, 83, 89, 97] "
     ]
    }
   ],
   "source": [
    "#Check the given number is prime or not\n",
    "def isPrime(n):\n",
    "    if n< 2:\n",
    "        return False\n",
    "    for i in range(2,n//2+1):\n",
    "        if n%i==0:\n",
    "            return False\n",
    "    return True\n",
    "isPrime(13)\n",
    "lb,ub=3,100\n",
    "primeNum=[num for num in range(lb,ub+1) if isPrime(num)]\n",
    "print(primeNum,end=' ')"
   ]
  },
  {
   "cell_type": "markdown",
   "metadata": {},
   "source": [
    "#  Files"
   ]
  },
  {
   "cell_type": "code",
   "execution_count": null,
   "metadata": {},
   "outputs": [],
   "source": [
    "#Read mode--read()-->'r'\n",
    "#write mode--write()-->'w'\n",
    "#Append mode--append()-->'a'\n",
    "#open() menthod -->For open file\n",
    "#close() method -->For Close the file"
   ]
  },
  {
   "cell_type": "code",
   "execution_count": 43,
   "metadata": {},
   "outputs": [],
   "source": [
    "fp='ap.txt'"
   ]
  },
  {
   "cell_type": "code",
   "execution_count": 46,
   "metadata": {},
   "outputs": [
    {
     "name": "stdout",
     "output_type": "stream",
     "text": [
      "Hello Apssdc\n"
     ]
    }
   ],
   "source": [
    "f=open(fp)\n",
    "d=f.read(12)\n",
    "print(d)"
   ]
  },
  {
   "cell_type": "code",
   "execution_count": 48,
   "metadata": {},
   "outputs": [
    {
     "name": "stdout",
     "output_type": "stream",
     "text": [
      "Hello Apssdc \n",
      "Good Moring \n",
      "Sistk\n"
     ]
    }
   ],
   "source": [
    "def readData(fp):\n",
    "    with open(fp,'r') as f:\n",
    "        filedata=f.read()\n",
    "        print(filedata)\n",
    "#         return filedata\n",
    "readData(fp)"
   ]
  },
  {
   "cell_type": "code",
   "execution_count": 49,
   "metadata": {},
   "outputs": [
    {
     "name": "stdout",
     "output_type": "stream",
     "text": [
      "6\n"
     ]
    }
   ],
   "source": [
    "#Write Mode()\n",
    "def writeData(fp):\n",
    "    with open(fp,'w') as f:\n",
    "        filedata=f.write(\"APSSDC\")\n",
    "        print(filedata)\n",
    "writeData(fp)"
   ]
  },
  {
   "cell_type": "code",
   "execution_count": 51,
   "metadata": {},
   "outputs": [
    {
     "name": "stdout",
     "output_type": "stream",
     "text": [
      "6\n"
     ]
    }
   ],
   "source": [
    "#Append Mode()\n",
    "def appendData(fp):\n",
    "    with open(fp,'a') as f:\n",
    "        filedata=f.write(\"\\nSISTK\")\n",
    "        print(filedata)\n",
    "appendData(fp)"
   ]
  },
  {
   "cell_type": "code",
   "execution_count": 58,
   "metadata": {},
   "outputs": [
    {
     "name": "stdout",
     "output_type": "stream",
     "text": [
      "18\n"
     ]
    }
   ],
   "source": [
    "#tell()-->i will knows the cursor present line\n",
    "#seek()-->It will contains zero level  position\n",
    "def readData(fp):\n",
    "    with open(fp,'r') as f:\n",
    "        f.read()\n",
    "        print(f.tell())\n",
    "       \n",
    "       \n",
    "#         return filedata\n",
    "readData(fp)"
   ]
  },
  {
   "cell_type": "code",
   "execution_count": null,
   "metadata": {},
   "outputs": [],
   "source": [
    "#Find out the Number of lines in the given Files (Lines count)\n",
    "#Find out the number of Words present in the file\n",
    "#How many charecters are present in the file Hint:use the Split() method\n",
    "#Convert the all file data to list format  \n"
   ]
  }
 ],
 "metadata": {
  "kernelspec": {
   "display_name": "Python 3",
   "language": "python",
   "name": "python3"
  },
  "language_info": {
   "codemirror_mode": {
    "name": "ipython",
    "version": 3
   },
   "file_extension": ".py",
   "mimetype": "text/x-python",
   "name": "python",
   "nbconvert_exporter": "python",
   "pygments_lexer": "ipython3",
   "version": "3.7.3"
  }
 },
 "nbformat": 4,
 "nbformat_minor": 2
}
