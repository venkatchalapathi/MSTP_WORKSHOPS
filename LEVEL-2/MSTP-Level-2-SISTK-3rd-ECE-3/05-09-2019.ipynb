{
 "cells": [
  {
   "cell_type": "markdown",
   "metadata": {},
   "source": [
    "### Logical Operators -->logical AND(&&),Logical OR(||),Logical Not(!)\n",
    "- Task:\n",
    "    input :2 3\n",
    "- output: Logical AND of (a<10) and (a<b) is True\n",
    "            Logical AND of (a>10) and (a<b) is False\n",
    "            Logical OR of (a<10) or(a>b) is True\n",
    "            Logical OR of (a>10) or (a==20) is False\n",
    "            Logical Not of !(a<10 and (a<b)) is False\n",
    "            Logical Not of !((a>10) and (a<b)) is True"
   ]
  },
  {
   "cell_type": "code",
   "execution_count": 4,
   "metadata": {},
   "outputs": [
    {
     "name": "stdout",
     "output_type": "stream",
     "text": [
      "2\n",
      "3\n",
      "False\n"
     ]
    }
   ],
   "source": [
    "n1=int(input())\n",
    "n2=int(input())\n",
    "if((n1>10) and (n1<n2) and (10>n2) and (3==n2) and (7>n1) and (n2!=n1)):\n",
    "    print(\"True\")\n",
    "else:\n",
    "    print(\"False\")\n",
    "     "
   ]
  },
  {
   "cell_type": "code",
   "execution_count": 5,
   "metadata": {},
   "outputs": [
    {
     "name": "stdout",
     "output_type": "stream",
     "text": [
      "2\n",
      "3\n",
      "True\n"
     ]
    }
   ],
   "source": [
    "n1=int(input())\n",
    "n2=int(input())\n",
    "if((n1>10) or (n1<n2) or (10>n2) or (3==n2) or (7>n1) or (n2!=n1)):\n",
    "    print(\"True\")\n",
    "else:\n",
    "    print(\"False\")"
   ]
  },
  {
   "cell_type": "code",
   "execution_count": 6,
   "metadata": {},
   "outputs": [
    {
     "name": "stdout",
     "output_type": "stream",
     "text": [
      "2\n",
      "3\n",
      "False\n"
     ]
    }
   ],
   "source": [
    "n1=int(input())\n",
    "n2=int(input())\n",
    "if(not ((n1>10) or (n1<n2) or (10>n2) or (3==n2) or (7>n1) or (n2!=n1))):\n",
    "    print(\"True\")\n",
    "else:\n",
    "    print(\"False\")"
   ]
  },
  {
   "cell_type": "code",
   "execution_count": 9,
   "metadata": {},
   "outputs": [
    {
     "name": "stdout",
     "output_type": "stream",
     "text": [
      "2\n",
      "3\n",
      "True\n"
     ]
    }
   ],
   "source": [
    "n1=int(input())\n",
    "n2=int(input())\n",
    "if(not((n1>10) and (n1<n2) and (10>n2) and (3==n2) and (7>n1) and (n2!=n1))):\n",
    "    print(\"True\")\n",
    "else:\n",
    "    print(\"False\")\n",
    "     "
   ]
  },
  {
   "cell_type": "code",
   "execution_count": 25,
   "metadata": {},
   "outputs": [
    {
     "name": "stdout",
     "output_type": "stream",
     "text": [
      "2\n",
      "3\n",
      "True\n"
     ]
    }
   ],
   "source": [
    "### Relational(Condional) Operators--> <,>,>=,<=,==,!=\n",
    "    ### n1=5 n2=5\n",
    "n1=int(input())\n",
    "n2=int(input())\n",
    "if(n1!=n2):\n",
    "    print(\"True\")\n",
    "else:\n",
    "    print(\"False\")"
   ]
  },
  {
   "cell_type": "code",
   "execution_count": 5,
   "metadata": {},
   "outputs": [
    {
     "name": "stdout",
     "output_type": "stream",
     "text": [
      "5\n",
      "6\n",
      "11\n",
      "5\n",
      "30\n",
      "5\n",
      "5\n",
      "11\n"
     ]
    }
   ],
   "source": [
    "## Assignment Oprators-->+=,-=,*=,//=,%=\n",
    "n1=int(input())# 5\n",
    "n2=int(input())# 6\n",
    "#n1=n1+n2\n",
    "n1+=n2 \n",
    "print(n1)# 11\n",
    "#n1=n1-n2 # 11-6 -->5\n",
    "n1-=n2\n",
    "print(n1)# 5\n",
    "#n1=n1*n2 # 5*6 -->30\n",
    "n1*=n2\n",
    "print(n1)\n",
    "#n1=n1//n2 # 5\n",
    "n1//=n2\n",
    "print(n1) # 5\n",
    "# n1=n1%n2//5%6\n",
    "print(n1)\n",
    "#n2=n2+n1\n",
    "n2+=n1\n",
    "print(n2)\n",
    "\n"
   ]
  },
  {
   "cell_type": "code",
   "execution_count": 12,
   "metadata": {},
   "outputs": [
    {
     "name": "stdout",
     "output_type": "stream",
     "text": [
      "0\n",
      "15\n",
      "15\n",
      "15\n"
     ]
    }
   ],
   "source": [
    "# BitWise Operators -->AND(&),Or(|),Not(~),XOR(^)\n",
    "a=10#-->1010\n",
    "b=5#--> 0101\n",
    "    #  -----\n",
    "     #  1111-->15\n",
    "c=a&b\n",
    "print(c)\n",
    "c=a|b\n",
    "print(c)\n",
    "c=-16\n",
    "c=~(c)# ~(n)-->-(n+1) --->-(-16+1)-->-(-15) -->15\n",
    "print(c)\n",
    "c=a^b#10 -->1010\n",
    "    #  5 -->0101\n",
    "      #    -----\n",
    "        #   1111 -->15\n",
    "print(c) "
   ]
  },
  {
   "cell_type": "markdown",
   "metadata": {},
   "source": [
    "### Selections\n",
    "    - if --\n",
    "            if(conditions):\n",
    "                    statements\n",
    "    - if --else\n",
    "            if(conditions):\n",
    "                    statements\n",
    "            else:\n",
    "                    statements\n",
    "    - nested if-else\n",
    "            if(conditions):\n",
    "                    if(condtions):\n",
    "                            statements\n",
    "                     else:\n",
    "                             statements\n",
    "            elif(condtion):\n",
    "                    if(conditions):\n",
    "                                statements\n",
    "                    else:\n",
    "                            statements\n",
    "            else:\n",
    "                    statements\n",
    "            \n",
    "    "
   ]
  },
  {
   "cell_type": "code",
   "execution_count": 5,
   "metadata": {},
   "outputs": [
    {
     "name": "stdout",
     "output_type": "stream",
     "text": [
      "Enter User Name:10022\n",
      "Enter Password:54321\n",
      "Welcome to  10022\n"
     ]
    }
   ],
   "source": [
    "#### User login  Application\n",
    "U_name1=10022\n",
    "U_name2=10023\n",
    "U_name3=10024\n",
    "Psw1=12345\n",
    "Psw2=98765\n",
    "Psw3=54321\n",
    "Psw4=67890\n",
    "username=int(input(\"Enter User Name:\"))\n",
    "if(username==U_name1 or username==U_name2 or username==U_name3):\n",
    "    password=int(input(\"Enter Password:\"))\n",
    "    if(password==Psw1 or password==Psw2 or password==Psw3 or password==Psw4):\n",
    "        print(\"Welcome to \",username)\n",
    "    else:\n",
    "        print(\"Wrong Password\")\n",
    "else:\n",
    "    print(\"Ivalid Username\")\n"
   ]
  },
  {
   "cell_type": "code",
   "execution_count": 15,
   "metadata": {},
   "outputs": [
    {
     "name": "stdout",
     "output_type": "stream",
     "text": [
      "0\n",
      "Even Number\n"
     ]
    }
   ],
   "source": [
    "# even -->n%2==0  n%2!=1\n",
    "# odd -->n%2==1 or n%2!=0  \n",
    "n=int(input())\n",
    "if(n%2!=0):\n",
    "    print(\"Odd Number\")\n",
    "else:\n",
    "    print(\"Even Number\")"
   ]
  },
  {
   "cell_type": "code",
   "execution_count": 30,
   "metadata": {},
   "outputs": [
    {
     "name": "stdout",
     "output_type": "stream",
     "text": [
      "43\n",
      "34\n",
      "756\n",
      "43\n",
      "Biggest value is  756\n"
     ]
    }
   ],
   "source": [
    "### to find biggest 3 numbers\n",
    "    #-->input:32 45 30 74\n",
    "    #-->output:Biggest number is 45\n",
    "n1=int(input())\n",
    "n2=int(input())\n",
    "n3=int(input())\n",
    "n4=int(input())\n",
    "if(n1>n2 and n1>n3 and n1>n4):\n",
    "            print(\"Biggest value is \",n1)\n",
    "elif(n2>n3 and n2>n4):\n",
    "            print(\"Biggest value is \",n2)\n",
    "elif(n3>n4):\n",
    "    print(\"Biggest value is \",n3)\n",
    "else:\n",
    "    print(\"Biggest value is \",n4)"
   ]
  },
  {
   "cell_type": "code",
   "execution_count": null,
   "metadata": {},
   "outputs": [],
   "source": []
  }
 ],
 "metadata": {
  "kernelspec": {
   "display_name": "Python 3",
   "language": "python",
   "name": "python3"
  },
  "language_info": {
   "codemirror_mode": {
    "name": "ipython",
    "version": 3
   },
   "file_extension": ".py",
   "mimetype": "text/x-python",
   "name": "python",
   "nbconvert_exporter": "python",
   "pygments_lexer": "ipython3",
   "version": "3.7.3"
  }
 },
 "nbformat": 4,
 "nbformat_minor": 2
}
