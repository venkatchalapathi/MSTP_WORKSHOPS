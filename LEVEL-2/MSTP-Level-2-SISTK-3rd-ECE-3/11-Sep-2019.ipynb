{
 "cells": [
  {
   "cell_type": "code",
   "execution_count": 5,
   "metadata": {},
   "outputs": [
    {
     "data": {
      "text/plain": [
       "['hai', 'hello', 'bye', 'bye']"
      ]
     },
     "execution_count": 5,
     "metadata": {},
     "output_type": "execute_result"
    }
   ],
   "source": [
    "s= \"hai hello bye bye\"\n",
    "s.split()"
   ]
  },
  {
   "cell_type": "code",
   "execution_count": 4,
   "metadata": {},
   "outputs": [
    {
     "data": {
      "text/plain": [
       "str"
      ]
     },
     "execution_count": 4,
     "metadata": {},
     "output_type": "execute_result"
    }
   ],
   "source": [
    "filepath = 'data.txt'\n",
    "file = open(filepath,'r')\n",
    "content = file.read()\n",
    "type(content)"
   ]
  },
  {
   "cell_type": "code",
   "execution_count": 8,
   "metadata": {},
   "outputs": [
    {
     "name": "stdout",
     "output_type": "stream",
     "text": [
      "No of words are: 12 words\n",
      "No of lines are: 4 lines\n",
      "Size of the file: 59 bytes\n"
     ]
    }
   ],
   "source": [
    "# Taks on file handling:\n",
    "# find no of words ,no of lines and size of the file\n",
    "# output:\n",
    "# No of words are: 11\n",
    "# No of Lines are: 4\n",
    "# File Size      : 234 bytes\n",
    "\n",
    "filePath = 'data.txt'\n",
    "file = open(filePath,'r')\n",
    "content = file.read()\n",
    "print(\"No of words are:\",len(content.split()),'words')\n",
    "print(\"No of lines are:\",len(content.split('\\n')),\"lines\")\n",
    "print(\"Size of the file:\",len(content),\"bytes\")"
   ]
  },
  {
   "cell_type": "markdown",
   "metadata": {},
   "source": [
    "# Data Science:"
   ]
  },
  {
   "cell_type": "markdown",
   "metadata": {},
   "source": [
    "- Numpy \n",
    "- Pandas\n",
    "- Matplotlib\n"
   ]
  },
  {
   "cell_type": "markdown",
   "metadata": {},
   "source": [
    "- Numpy\n",
    "    - It is lib which have N-Dimensional array objects\n",
    "    - Numeriacal python\n",
    "    "
   ]
  },
  {
   "cell_type": "code",
   "execution_count": 16,
   "metadata": {},
   "outputs": [
    {
     "name": "stdout",
     "output_type": "stream",
     "text": [
      "multiply with 10 [10 20 30 40 50 60 70 80 90]\n",
      "Subtraction with  [-9 -8 -7 -6 -5 -4 -3 -2 -1]\n",
      "Addition with 10 [11 12 13 14 15 16 17 18 19]\n",
      "Division with 10 [0.1 0.2 0.3 0.4 0.5 0.6 0.7 0.8 0.9]\n"
     ]
    }
   ],
   "source": [
    "# Single Dimenstional array\n",
    "\n",
    "import numpy as np\n",
    "\n",
    "x = np.array([1,2,3,4,5,6,7,8,9])\n",
    "li = [1,2,3,4,5,6,7,8,9]\n",
    "print(\"multiply with 10\",x*10)\n",
    "print(\"Subtraction with \",x-10)\n",
    "print(\"Addition with 10\",x+10)\n",
    "print(\"Division with 10\",x/10)"
   ]
  },
  {
   "cell_type": "code",
   "execution_count": 44,
   "metadata": {},
   "outputs": [
    {
     "name": "stdout",
     "output_type": "stream",
     "text": [
      "[[1 2 3]\n",
      " [2 3 4]]\n"
     ]
    },
    {
     "data": {
      "text/plain": [
       "2"
      ]
     },
     "execution_count": 44,
     "metadata": {},
     "output_type": "execute_result"
    }
   ],
   "source": [
    "# 2-D array\n",
    "x = np.array([(1,2,3),(2,3,4)])\n",
    "y = np.array([(2,3,4),(4,3,2)])\n",
    "# Perform addition \n",
    "# perform subtraction\n",
    "# perform multiplication\n",
    "# perform division\n",
    "print(x)\n",
    "#print(x.T) # to do transpose operation\n",
    "x[1][0]"
   ]
  },
  {
   "cell_type": "code",
   "execution_count": 38,
   "metadata": {},
   "outputs": [
    {
     "data": {
      "text/plain": [
       "(3, 3, 3, 3, 3, 3, 3)"
      ]
     },
     "execution_count": 38,
     "metadata": {},
     "output_type": "execute_result"
    }
   ],
   "source": [
    "# n-D Array\n",
    "# 3-d array with random elements\n",
    "xy = np.random.randint(10,size=(3,3,3,3,3,3,3))\n",
    "np.size(xy) # returns size of the array\n",
    "np.ndim(xy) # returns dimension of the array\n",
    "xy.itemsize\n",
    "xy.shape"
   ]
  },
  {
   "cell_type": "markdown",
   "metadata": {},
   "source": [
    "# Pandas"
   ]
  },
  {
   "cell_type": "code",
   "execution_count": null,
   "metadata": {},
   "outputs": [],
   "source": [
    "- Data processing\n",
    "- Data Analysing\n",
    "- Data Transformation\n",
    "\n",
    "\n",
    "- Series \n",
    "- DataFrame"
   ]
  },
  {
   "cell_type": "code",
   "execution_count": 6,
   "metadata": {},
   "outputs": [
    {
     "data": {
      "text/plain": [
       "{'k2': 223, 'k3': 343, 'k1': 123}"
      ]
     },
     "execution_count": 6,
     "metadata": {},
     "output_type": "execute_result"
    }
   ],
   "source": [
    "#import pandas as pd # importing pandas\n",
    "\n",
    "d = {\"k2\":223,\"k3\":343}\n",
    "d[\"k1\"]=123\n",
    "d"
   ]
  },
  {
   "cell_type": "code",
   "execution_count": 10,
   "metadata": {},
   "outputs": [
    {
     "data": {
      "text/plain": [
       "dict_items([('k2', 223), ('k3', 343), ('k1', 123)])"
      ]
     },
     "execution_count": 10,
     "metadata": {},
     "output_type": "execute_result"
    }
   ],
   "source": [
    "d.keys()\n",
    "d.values()\n",
    "\n",
    "d.items()"
   ]
  },
  {
   "cell_type": "code",
   "execution_count": 12,
   "metadata": {},
   "outputs": [
    {
     "data": {
      "text/plain": [
       "s1    14\n",
       "s2    27\n",
       "s3    30\n",
       "dtype: int64"
      ]
     },
     "execution_count": 12,
     "metadata": {},
     "output_type": "execute_result"
    }
   ],
   "source": [
    "mid_1 = {\"s1\":25,\"s2\":30,\"s3\":13}\n",
    "mid_2 = {\"s1\":14,\"s2\":27,\"s3\":30}\n",
    "import pandas as pd\n",
    "pd.Series(mid_1)\n",
    "pd.Series(mid_2)"
   ]
  },
  {
   "cell_type": "code",
   "execution_count": 29,
   "metadata": {},
   "outputs": [
    {
     "name": "stdout",
     "output_type": "stream",
     "text": [
      "    Mid-1  Mid-2\n",
      "s1     25     14\n",
      "s2     30     27\n",
      "s3     13     30\n"
     ]
    }
   ],
   "source": [
    "stu_marks = {\"Mid-1\":mid_1,\"Mid-2\":mid_2}\n",
    "df = pd.DataFrame(stu_marks)\n",
    "df.columns # it returns heading values into a list format\n",
    "print(df)\n",
    "s1_avg= (df.values[0][0]+df.values[0][1])/2\n",
    "s2_avg= (df.values[1][0]+df.values[1][1])/2\n",
    "s3_avg=(df.values[2][0]+df.values[2][1])/2\n",
    "average = {\"s1\":s1_avg,\"s2\":s2_avg,\"s3\":s3_avg}\n",
    "stu_marks[\"Average\"]=average\n",
    "df= pd.DataFrame(stu_marks)\n",
    "s4 = {\"S4\":34}\n"
   ]
  },
  {
   "cell_type": "code",
   "execution_count": 31,
   "metadata": {},
   "outputs": [
    {
     "data": {
      "text/html": [
       "<div>\n",
       "<style scoped>\n",
       "    .dataframe tbody tr th:only-of-type {\n",
       "        vertical-align: middle;\n",
       "    }\n",
       "\n",
       "    .dataframe tbody tr th {\n",
       "        vertical-align: top;\n",
       "    }\n",
       "\n",
       "    .dataframe thead th {\n",
       "        text-align: right;\n",
       "    }\n",
       "</style>\n",
       "<table border=\"1\" class=\"dataframe\">\n",
       "  <thead>\n",
       "    <tr style=\"text-align: right;\">\n",
       "      <th></th>\n",
       "      <th>GEOID</th>\n",
       "      <th>State</th>\n",
       "      <th>2005</th>\n",
       "      <th>2006</th>\n",
       "      <th>2007</th>\n",
       "      <th>2008</th>\n",
       "      <th>2009</th>\n",
       "      <th>2010</th>\n",
       "      <th>2011</th>\n",
       "      <th>2012</th>\n",
       "      <th>2013</th>\n",
       "    </tr>\n",
       "  </thead>\n",
       "  <tbody>\n",
       "    <tr>\n",
       "      <th>0</th>\n",
       "      <td>04000US01</td>\n",
       "      <td>Alabama</td>\n",
       "      <td>37150</td>\n",
       "      <td>37952</td>\n",
       "      <td>42212</td>\n",
       "      <td>44476</td>\n",
       "      <td>39980</td>\n",
       "      <td>40933</td>\n",
       "      <td>42590</td>\n",
       "      <td>43464</td>\n",
       "      <td>41381</td>\n",
       "    </tr>\n",
       "    <tr>\n",
       "      <th>1</th>\n",
       "      <td>04000US02</td>\n",
       "      <td>Alaska</td>\n",
       "      <td>55891</td>\n",
       "      <td>56418</td>\n",
       "      <td>62993</td>\n",
       "      <td>63989</td>\n",
       "      <td>61604</td>\n",
       "      <td>57848</td>\n",
       "      <td>57431</td>\n",
       "      <td>63648</td>\n",
       "      <td>61137</td>\n",
       "    </tr>\n",
       "    <tr>\n",
       "      <th>2</th>\n",
       "      <td>04000US04</td>\n",
       "      <td>Arizona</td>\n",
       "      <td>45245</td>\n",
       "      <td>46657</td>\n",
       "      <td>62993</td>\n",
       "      <td>46914</td>\n",
       "      <td>45739</td>\n",
       "      <td>46896</td>\n",
       "      <td>48621</td>\n",
       "      <td>47044</td>\n",
       "      <td>50602</td>\n",
       "    </tr>\n",
       "    <tr>\n",
       "      <th>3</th>\n",
       "      <td>04000US05</td>\n",
       "      <td>Arkansas</td>\n",
       "      <td>36658</td>\n",
       "      <td>37057</td>\n",
       "      <td>40795</td>\n",
       "      <td>39586</td>\n",
       "      <td>36538</td>\n",
       "      <td>38587</td>\n",
       "      <td>41302</td>\n",
       "      <td>39018</td>\n",
       "      <td>39919</td>\n",
       "    </tr>\n",
       "    <tr>\n",
       "      <th>4</th>\n",
       "      <td>04000US06</td>\n",
       "      <td>California</td>\n",
       "      <td>51755</td>\n",
       "      <td>55319</td>\n",
       "      <td>55734</td>\n",
       "      <td>57014</td>\n",
       "      <td>56134</td>\n",
       "      <td>54283</td>\n",
       "      <td>53367</td>\n",
       "      <td>57020</td>\n",
       "      <td>57528</td>\n",
       "    </tr>\n",
       "  </tbody>\n",
       "</table>\n",
       "</div>"
      ],
      "text/plain": [
       "       GEOID       State   2005   2006   2007   2008   2009   2010   2011  \\\n",
       "0  04000US01     Alabama  37150  37952  42212  44476  39980  40933  42590   \n",
       "1  04000US02      Alaska  55891  56418  62993  63989  61604  57848  57431   \n",
       "2  04000US04     Arizona  45245  46657  62993  46914  45739  46896  48621   \n",
       "3  04000US05    Arkansas  36658  37057  40795  39586  36538  38587  41302   \n",
       "4  04000US06  California  51755  55319  55734  57014  56134  54283  53367   \n",
       "\n",
       "    2012   2013  \n",
       "0  43464  41381  \n",
       "1  63648  61137  \n",
       "2  47044  50602  \n",
       "3  39018  39919  \n",
       "4  57020  57528  "
      ]
     },
     "execution_count": 31,
     "metadata": {},
     "output_type": "execute_result"
    }
   ],
   "source": [
    "# Income.csv\n",
    "# Comma seperated Values\n",
    "# Open CSV\n",
    "\n",
    "import pandas as pds\n",
    "\n",
    "df = pds.read_csv('Income.csv')\n",
    "df"
   ]
  },
  {
   "cell_type": "code",
   "execution_count": 38,
   "metadata": {},
   "outputs": [
    {
     "name": "stdout",
     "output_type": "stream",
     "text": [
      "Average income is  41126\n"
     ]
    }
   ],
   "source": [
    "# Print all the income of alabama state\n",
    "li= list(df.values[0])\n",
    "tot = 0\n",
    "count = 0\n",
    "for i in range(2,len(li)):\n",
    "    tot=tot+li[i]\n",
    "    count=count+1\n",
    "print(\"Average income is \",tot//count)"
   ]
  },
  {
   "cell_type": "code",
   "execution_count": null,
   "metadata": {},
   "outputs": [],
   "source": [
    "# Print all the incomes of California state\n"
   ]
  },
  {
   "cell_type": "code",
   "execution_count": 48,
   "metadata": {},
   "outputs": [
    {
     "name": "stdout",
     "output_type": "stream",
     "text": [
      "51755 55319 55734 57014 56134 54283 53367 57020 57528 "
     ]
    }
   ],
   "source": [
    "# Print all the incomes of California state\n",
    "cal = list(df.values[4])\n",
    "for i in range(2,len(cal)):\n",
    "    print(cal[i],end=\" \")"
   ]
  },
  {
   "cell_type": "code",
   "execution_count": 53,
   "metadata": {},
   "outputs": [
    {
     "name": "stdout",
     "output_type": "stream",
     "text": [
      "Avg Is : 55350.444444444445\n"
     ]
    }
   ],
   "source": [
    "# Print California state average income from 2003 to 2013\n",
    "# cal_avg = list(df.values[4,2:])\n",
    "# print(\"Average =\",sum(cal_avg)/len(cal_avg))\n",
    "li = list(df.values[4])\n",
    "tot = 0\n",
    "count = 0\n",
    "for i in range(2,len(li)):\n",
    "    tot = tot+li[i]\n",
    "    count+=1 # count= count+1\n",
    "print(\"Avg Is :\",tot/count)"
   ]
  },
  {
   "cell_type": "code",
   "execution_count": 54,
   "metadata": {},
   "outputs": [
    {
     "name": "stdout",
     "output_type": "stream",
     "text": [
      "Avg Is : 41126.444444444445\n"
     ]
    }
   ],
   "source": [
    "# print alabam state average income \n",
    "li = list(df.values[0])\n",
    "tot = 0\n",
    "count = 0\n",
    "for i in range(2,len(li)):\n",
    "    tot = tot+li[i]\n",
    "    count+=1 # count= count+1\n",
    "print(\"Avg Is :\",tot/count)"
   ]
  },
  {
   "cell_type": "code",
   "execution_count": 55,
   "metadata": {},
   "outputs": [
    {
     "name": "stdout",
     "output_type": "stream",
     "text": [
      "Minimum is : 37150\n",
      "Maximum is : 44476\n"
     ]
    }
   ],
   "source": [
    "# Find Maximum income and minimum income of Arizona State\n",
    "\n",
    "li = df.values[0,2:]\n",
    "print(\"Minimum is :\",min(li))\n",
    "print(\"Maximum is :\",max(li))"
   ]
  },
  {
   "cell_type": "code",
   "execution_count": 59,
   "metadata": {},
   "outputs": [
    {
     "name": "stdout",
     "output_type": "stream",
     "text": [
      "Alabama: 44476\n",
      "Alaska: 63989\n",
      "Arizona: 62993\n",
      "California: 57528\n",
      "Arkansas: 41302\n"
     ]
    },
    {
     "data": {
      "text/html": [
       "<div>\n",
       "<style scoped>\n",
       "    .dataframe tbody tr th:only-of-type {\n",
       "        vertical-align: middle;\n",
       "    }\n",
       "\n",
       "    .dataframe tbody tr th {\n",
       "        vertical-align: top;\n",
       "    }\n",
       "\n",
       "    .dataframe thead th {\n",
       "        text-align: right;\n",
       "    }\n",
       "</style>\n",
       "<table border=\"1\" class=\"dataframe\">\n",
       "  <thead>\n",
       "    <tr style=\"text-align: right;\">\n",
       "      <th></th>\n",
       "      <th>GEOID</th>\n",
       "      <th>State</th>\n",
       "      <th>2005</th>\n",
       "      <th>2006</th>\n",
       "      <th>2007</th>\n",
       "      <th>2008</th>\n",
       "      <th>2009</th>\n",
       "      <th>2010</th>\n",
       "      <th>2011</th>\n",
       "      <th>2012</th>\n",
       "      <th>2013</th>\n",
       "    </tr>\n",
       "  </thead>\n",
       "  <tbody>\n",
       "    <tr>\n",
       "      <th>0</th>\n",
       "      <td>04000US01</td>\n",
       "      <td>Alabama</td>\n",
       "      <td>37150</td>\n",
       "      <td>37952</td>\n",
       "      <td>42212</td>\n",
       "      <td>44476</td>\n",
       "      <td>39980</td>\n",
       "      <td>40933</td>\n",
       "      <td>42590</td>\n",
       "      <td>43464</td>\n",
       "      <td>41381</td>\n",
       "    </tr>\n",
       "    <tr>\n",
       "      <th>1</th>\n",
       "      <td>04000US02</td>\n",
       "      <td>Alaska</td>\n",
       "      <td>55891</td>\n",
       "      <td>56418</td>\n",
       "      <td>62993</td>\n",
       "      <td>63989</td>\n",
       "      <td>61604</td>\n",
       "      <td>57848</td>\n",
       "      <td>57431</td>\n",
       "      <td>63648</td>\n",
       "      <td>61137</td>\n",
       "    </tr>\n",
       "    <tr>\n",
       "      <th>2</th>\n",
       "      <td>04000US04</td>\n",
       "      <td>Arizona</td>\n",
       "      <td>45245</td>\n",
       "      <td>46657</td>\n",
       "      <td>62993</td>\n",
       "      <td>46914</td>\n",
       "      <td>45739</td>\n",
       "      <td>46896</td>\n",
       "      <td>48621</td>\n",
       "      <td>47044</td>\n",
       "      <td>50602</td>\n",
       "    </tr>\n",
       "    <tr>\n",
       "      <th>3</th>\n",
       "      <td>04000US05</td>\n",
       "      <td>Arkansas</td>\n",
       "      <td>36658</td>\n",
       "      <td>37057</td>\n",
       "      <td>40795</td>\n",
       "      <td>39586</td>\n",
       "      <td>36538</td>\n",
       "      <td>38587</td>\n",
       "      <td>41302</td>\n",
       "      <td>39018</td>\n",
       "      <td>39919</td>\n",
       "    </tr>\n",
       "    <tr>\n",
       "      <th>4</th>\n",
       "      <td>04000US06</td>\n",
       "      <td>California</td>\n",
       "      <td>51755</td>\n",
       "      <td>55319</td>\n",
       "      <td>55734</td>\n",
       "      <td>57014</td>\n",
       "      <td>56134</td>\n",
       "      <td>54283</td>\n",
       "      <td>53367</td>\n",
       "      <td>57020</td>\n",
       "      <td>57528</td>\n",
       "    </tr>\n",
       "  </tbody>\n",
       "</table>\n",
       "</div>"
      ],
      "text/plain": [
       "       GEOID       State   2005   2006   2007   2008   2009   2010   2011  \\\n",
       "0  04000US01     Alabama  37150  37952  42212  44476  39980  40933  42590   \n",
       "1  04000US02      Alaska  55891  56418  62993  63989  61604  57848  57431   \n",
       "2  04000US04     Arizona  45245  46657  62993  46914  45739  46896  48621   \n",
       "3  04000US05    Arkansas  36658  37057  40795  39586  36538  38587  41302   \n",
       "4  04000US06  California  51755  55319  55734  57014  56134  54283  53367   \n",
       "\n",
       "    2012   2013  \n",
       "0  43464  41381  \n",
       "1  63648  61137  \n",
       "2  47044  50602  \n",
       "3  39018  39919  \n",
       "4  57020  57528  "
      ]
     },
     "execution_count": 59,
     "metadata": {},
     "output_type": "execute_result"
    }
   ],
   "source": [
    "# Print all states highest income from 2005 to 2013\n",
    "# output:\n",
    "# Alabama:XXXXXx\n",
    "# Alaska :XXXXXX\n",
    "alabama = max(list(df.values[0,2:]))\n",
    "alaska = max(list(df.values[1,2:]))\n",
    "Arizona = max(list(df.values[2,2:]))\n",
    "Arkansas = max(list(df.values[3,2:]))\n",
    "California = max(list(df.values[4,2:]))\n",
    "print(\"Alabama:\",alabama)\n",
    "print(\"Alaska:\",alaska)\n",
    "print(\"Arizona:\",Arizona)\n",
    "print(\"California:\",California)\n",
    "print(\"Arkansas:\",Arkansas)\n",
    "df"
   ]
  },
  {
   "cell_type": "code",
   "execution_count": 58,
   "metadata": {},
   "outputs": [],
   "source": [
    "# 1. define a function that calulates total income of \n",
    "#    alabama state in years 2009 and 2011\n",
    "# 2. define a finction that gives maximum income year \n",
    "#   of alaska state\n",
    "# 3. define a function that search for income ,if the income \n",
    "#    founct print state and year else print -1"
   ]
  },
  {
   "cell_type": "markdown",
   "metadata": {},
   "source": [
    "# Matplotlib\n",
    "- it is a visual representation of data\n"
   ]
  },
  {
   "cell_type": "code",
   "execution_count": 67,
   "metadata": {},
   "outputs": [
    {
     "data": {
      "image/png": "[encoded data removed]",
      "text/plain": [
       "<Figure size 432x288 with 1 Axes>"
      ]
     },
     "metadata": {
      "needs_background": "light"
     },
     "output_type": "display_data"
    },
    {
     "name": "stdout",
     "output_type": "stream",
     "text": [
      "None\n"
     ]
    }
   ],
   "source": [
    "import matplotlib.pyplot as plt\n",
    "\n",
    "# plot() - which plots a graph\n",
    "# show() - displays the graphs\n",
    "# title() - which sets the titel\n",
    "# xlable() - lable for x-axis\n",
    "# ylable() - lable for y-axis\n",
    "# grid()   - for grid type of graphs\n",
    "\n",
    "x = [1,2,3,4,5,6]\n",
    "y = [1,4,9,16,25,36]\n",
    "plt.title(\"Natural numbers Vs Squares\")\n",
    "plt.plot(x,y,'o')\n",
    "plt.plot(x,y)\n",
    "plt.xlabel('Natural numbers')\n",
    "plt.ylabel(\"Squares\")\n",
    "plt.grid()\n",
    "print(plt.show())\n",
    "\n"
   ]
  },
  {
   "cell_type": "code",
   "execution_count": 71,
   "metadata": {},
   "outputs": [
    {
     "data": {
      "text/plain": [
       "[37150, 37952, 42212, 44476, 39980, 40933, 42590, 43464, 41381]"
      ]
     },
     "execution_count": 71,
     "metadata": {},
     "output_type": "execute_result"
    }
   ],
   "source": [
    "year = list(df.columns[2:])\n",
    "alabama = list(df.values[0,2:])\n",
    "alabama"
   ]
  },
  {
   "cell_type": "code",
   "execution_count": null,
   "metadata": {},
   "outputs": [],
   "source": []
  }
 ],
 "metadata": {
  "kernelspec": {
   "display_name": "Python 3",
   "language": "python",
   "name": "python3"
  },
  "language_info": {
   "codemirror_mode": {
    "name": "ipython",
    "version": 3
   },
   "file_extension": ".py",
   "mimetype": "text/x-python",
   "name": "python",
   "nbconvert_exporter": "python",
   "pygments_lexer": "ipython3",
   "version": "3.7.3"
  }
 },
 "nbformat": 4,
 "nbformat_minor": 2
}
