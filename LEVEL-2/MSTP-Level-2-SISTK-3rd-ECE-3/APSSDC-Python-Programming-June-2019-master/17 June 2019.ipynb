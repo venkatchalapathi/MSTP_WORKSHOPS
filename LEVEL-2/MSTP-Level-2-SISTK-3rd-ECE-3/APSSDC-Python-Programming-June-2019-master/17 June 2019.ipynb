{
 "cells": [
  {
   "cell_type": "code",
   "execution_count": 16,
   "metadata": {},
   "outputs": [
    {
     "data": {
      "text/plain": [
       "'abc'"
      ]
     },
     "execution_count": 16,
     "metadata": {},
     "output_type": "execute_result"
    }
   ],
   "source": [
    "\n",
    "s = \"abc\"\n",
    "\n",
    "s.islower() # Check the case of a character\n",
    "s.isupper()\n",
    "\n",
    "s.lower() # Convert a character to lowercase\n",
    "s.upper() # Convert a character to upper case\n",
    "s.split()\n",
    "list(s)\n",
    "#s.split(\"\")\n",
    "\n",
    "s = list(s)\n",
    "\"\".join(s)"
   ]
  },
  {
   "cell_type": "code",
   "execution_count": 23,
   "metadata": {},
   "outputs": [
    {
     "data": {
      "text/plain": [
       "97"
      ]
     },
     "execution_count": 23,
     "metadata": {},
     "output_type": "execute_result"
    }
   ],
   "source": [
    "# Function to Toggle String characters\n",
    "\n",
    "\n",
    "def toggleString(s):\n",
    "    # Convert the string into a list of characters\n",
    "    #s = list(s)\n",
    "    t = \"\" #[]\n",
    "    for c in s:\n",
    "        if c.islower():\n",
    "            t += c.upper() #t.append(c.upper())\n",
    "        else:\n",
    "            t += c.lower() #t.append(c.lower())\n",
    "    return t #\"\".join(t)\n",
    "\n",
    "toggleString(\"AbC\")  \n",
    "ord('a')"
   ]
  },
  {
   "cell_type": "markdown",
   "metadata": {},
   "source": [
    "### Problem : Duration\n",
    "\n",
    "**Input**: start time, end time  (HH MM) <br>\n",
    "        HH - {00, 01, 02, 03 .. 23} <br>\n",
    "        MM - {00, 01, 02, 03, .. 59} <br>\n",
    "        HH MM - {00 00, 23 59} <br>\n",
    "               \n",
    "**Output**: time difference in HH MM"
   ]
  },
  {
   "cell_type": "code",
   "execution_count": 22,
   "metadata": {},
   "outputs": [
    {
     "name": "stdout",
     "output_type": "stream",
     "text": [
      "5 41\n"
     ]
    }
   ],
   "source": [
    "# Calculate the time difference as total number of minutes \n",
    "# Convert the total minutes into HH MM\n",
    "\n",
    "s = \"2 42 8 23\"\n",
    "\n",
    "def minuteDifference(s):\n",
    "    s = s.split()\n",
    "    sh = int(s[0])\n",
    "    sm = int(s[1])\n",
    "    eh = int(s[2])\n",
    "    em = int(s[3])\n",
    "    startminutes = (sh * 60) + sm\n",
    "    endminutes = (eh * 60) + em\n",
    "    return endminutes - startminutes\n",
    "\n",
    "def outputTimeFormat(minutes):\n",
    "    # Convert minutes to HH MM\n",
    "    hh = minutes // 60\n",
    "    mm = minutes % 60\n",
    "    print(hh, mm)\n",
    "    return \n",
    "\n",
    "minutes = minuteDifference(s)\n",
    "outputTimeFormat(minutes)"
   ]
  },
  {
   "cell_type": "markdown",
   "metadata": {},
   "source": [
    "### Problem : Play with Numbers\n",
    "\n",
    "line 1 : array size(n), no of queries(q)\n",
    "line 2 : n array elements\n",
    "next q lines : query - sub array of the original array\n",
    "\n",
    "\n",
    "5 2\n",
    "1 2 3 4 5\n",
    "1 2\n",
    "0 5"
   ]
  },
  {
   "cell_type": "markdown",
   "metadata": {},
   "source": [
    "### Instructions\n",
    "\n",
    "- Exam to be taken Incognito Mode of the web browser\n",
    "    - Login into Hackerearth in Incognito mode and take the test\n",
    "\n",
    "- 4 Questions\n",
    "    - 3 questions are 5 marks each\n",
    "    - 1 question is 15 marks\n",
    "    \n",
    "- Duration 1 hour\n",
    "- 15 Mark question should be submitted in Python on Hackerearth and\n",
    "    in flowchart format through Google Form that will be shared\n"
   ]
  },
  {
   "cell_type": "code",
   "execution_count": null,
   "metadata": {},
   "outputs": [],
   "source": []
  }
 ],
 "metadata": {
  "kernelspec": {
   "display_name": "Python 3",
   "language": "python",
   "name": "python3"
  },
  "language_info": {
   "codemirror_mode": {
    "name": "ipython",
    "version": 3
   },
   "file_extension": ".py",
   "mimetype": "text/x-python",
   "name": "python",
   "nbconvert_exporter": "python",
   "pygments_lexer": "ipython3",
   "version": "3.6.5"
  }
 },
 "nbformat": 4,
 "nbformat_minor": 2
}
