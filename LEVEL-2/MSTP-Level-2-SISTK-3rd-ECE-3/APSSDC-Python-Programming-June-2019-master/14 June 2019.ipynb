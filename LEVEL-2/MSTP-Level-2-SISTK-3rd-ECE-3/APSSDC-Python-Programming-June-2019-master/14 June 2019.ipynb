{
 "cells": [
  {
   "cell_type": "markdown",
   "metadata": {},
   "source": [
    "### Problem Solving and Programming in Python - Day 4\n",
    "\n",
    "\n",
    "#### Date - 14 June 2019\n",
    "\n",
    "#### Day Objectives\n",
    "- Python Data Structures\n",
    "    - Lists\n",
    "    - Tuples\n",
    "    - Dictionaries\n",
    "- Basic Problem set on Data Structures\n",
    "- Advanced Problem Set\n",
    "- Packages and Modules in Python"
   ]
  },
  {
   "cell_type": "code",
   "execution_count": null,
   "metadata": {},
   "outputs": [],
   "source": []
  },
  {
   "cell_type": "markdown",
   "metadata": {},
   "source": [
    "### Python Data Structures\n",
    "\n",
    "#### Lists"
   ]
  },
  {
   "cell_type": "code",
   "execution_count": 48,
   "metadata": {},
   "outputs": [
    {
     "name": "stdout",
     "output_type": "stream",
     "text": [
      "-1\n"
     ]
    }
   ],
   "source": [
    "li = [123, 978, 654]\n",
    "\n",
    "li # Access the entire list\n",
    "\n",
    "li[1] # Access an element with index in a list\n",
    "\n",
    "li[1:] # Access all elements from second element to last element\n",
    "\n",
    "li = li[::-1] # reversing list elements and reassigning to the original list\n",
    "\n",
    "li\n",
    "\n",
    "li = li[::-1]\n",
    "\n",
    "li[::2] # Accessing even index elements\n",
    "\n",
    "li[1::2]\n",
    "\n",
    "# Lists can be accessed, manipulated in two different ways\n",
    "    # Direct Referencing - [index]\n",
    "    # Indirect Referencing - through functions\n",
    "    \n",
    "    \n",
    "li.append(345) # Adding an element to end of the list\n",
    "\n",
    "li.insert(1, 234) # Adding an element at a particular index\n",
    "\n",
    "li.sort() # Sort elements in ascending order\n",
    "\n",
    "li.pop() # Remove the last element in a list\n",
    "li\n",
    "\n",
    "li.pop(1) # Remove an element at a particular index\n",
    "\n",
    "li2 = [234, 456, 789]\n",
    "\n",
    "\n",
    "li.extend(li2) # Merge list 2 into list 1\n",
    "\n",
    "sum(li) # Sum of all elements in a list\n",
    "max(li) # Maximum element in a list\n",
    "len(li) # Number of elements in a list\n",
    "min(li)\n",
    "\n",
    "sum(li)/len(li) # Average of list elements\n",
    "\n",
    "sum(li[1::2])/len(li[1::2]) # Average of all alternate elements\n",
    "\n",
    "min(li)\n",
    "li\n",
    "\n",
    "max(li)-1\n",
    "try:\n",
    "    li.index(10000)\n",
    "except:\n",
    "    print(-1)"
   ]
  },
  {
   "cell_type": "code",
   "execution_count": 39,
   "metadata": {},
   "outputs": [
    {
     "data": {
      "text/plain": [
       "234"
      ]
     },
     "execution_count": 39,
     "metadata": {},
     "output_type": "execute_result"
    }
   ],
   "source": [
    "# Function to identify the second largest element in a unique list\n",
    "        # Sort the data and select the second last element\n",
    "        # Sort the data in reverse order, and select the second element\n",
    "        # Remove the max element and then get the max of the new list\n",
    "        # \n",
    "def secondLargest(li):\n",
    "    li.sort()\n",
    "    return li[-2]\n",
    "    \n",
    "# Function that returns the nth largest   \n",
    "def genericLargest(li, n):\n",
    "    li.sort()\n",
    "    return li[-n]\n",
    "\n",
    "secondLargest(li)\n",
    "genericLargest(li, 5)\n"
   ]
  },
  {
   "cell_type": "code",
   "execution_count": 50,
   "metadata": {},
   "outputs": [
    {
     "data": {
      "text/plain": [
       "5"
      ]
     },
     "execution_count": 50,
     "metadata": {},
     "output_type": "execute_result"
    }
   ],
   "source": [
    "# Function to search for data in a list\n",
    "# Search for the key in the list and return the index of the key. Return -1 if key not found\n",
    "def linearSearch(li, key):\n",
    "    for index in range(0, len(li)):\n",
    "        if li[index] == key:\n",
    "            return index\n",
    "    return -1\n",
    "\n",
    "def linearSearch2(li, key):\n",
    "    for element in li:\n",
    "        if element == key:\n",
    "            return li.index(element)\n",
    "    return -1\n",
    "\n",
    "def linearSearch3(li, key):\n",
    "    if key in li:\n",
    "        return li.index(key)\n",
    "    return -1\n",
    "\n",
    "linearSearch3(li, 789)        "
   ]
  },
  {
   "cell_type": "code",
   "execution_count": 53,
   "metadata": {},
   "outputs": [
    {
     "data": {
      "text/plain": [
       "1"
      ]
     },
     "execution_count": 53,
     "metadata": {},
     "output_type": "execute_result"
    }
   ],
   "source": [
    "# Function to count the occurances of a character in a string\n",
    "# \"Python Programming\", m -> 2\n",
    "\n",
    "def countCharOccurances(s, c):\n",
    "    count = 0\n",
    "    for ch in s:\n",
    "        if ch == c:\n",
    "            count += 1\n",
    "    return count\n",
    "\n",
    "def countCharOccurances2(s, c):\n",
    "    return s.count(c)\n",
    "\n",
    "countCharOccurances2(\"Python Programming\", 'Py')\n",
    "\n",
    "# Function to find the number of occurances of a substring in a string\n",
    "# \"abcabcddcbaaaa\", \"aa\" -> 3\n",
    "\n",
    "\n"
   ]
  },
  {
   "cell_type": "code",
   "execution_count": 57,
   "metadata": {},
   "outputs": [
    {
     "data": {
      "text/plain": [
       "[1, 2, 3, 4, 5, 6]"
      ]
     },
     "execution_count": 57,
     "metadata": {},
     "output_type": "execute_result"
    }
   ],
   "source": [
    "s = \"1 2 3 4 5 6\"\n",
    "li = s.split()\n",
    "numberlist = []\n",
    "for i in li:\n",
    "    numberlist.append(int(i))\n",
    "numberlist"
   ]
  },
  {
   "cell_type": "markdown",
   "metadata": {},
   "source": [
    "You are given an integer N.\n",
    "\n",
    "Write a program to print the value of the following expression:\n",
    "\n",
    "\n",
    "Input format\n",
    "\n",
    "First line: N\n",
    "\n",
    "Output format\n",
    "\n",
    "Print the value of the expression."
   ]
  },
  {
   "cell_type": "code",
   "execution_count": 2,
   "metadata": {},
   "outputs": [
    {
     "name": "stdout",
     "output_type": "stream",
     "text": [
      "3\n",
      "14\n"
     ]
    }
   ],
   "source": [
    "n = int(input())\n",
    "\n",
    "def sumSquaresNaturalNumbers(n):\n",
    "    sum = 0\n",
    "    for i in range(1, n+1):\n",
    "        sum = sum + i ** 2\n",
    "    return sum\n",
    "\n",
    "print(sumSquaresNaturalNumbers(n))"
   ]
  },
  {
   "cell_type": "code",
   "execution_count": null,
   "metadata": {},
   "outputs": [],
   "source": []
  },
  {
   "cell_type": "markdown",
   "metadata": {},
   "source": [
    "### Problem - ClosestZero\n",
    "\n",
    "You have been given an integer array A of size N. You need to print the number with value closest to zero. If there are multiple elements, print the number with lesser value.\n",
    "\n",
    "**Input format**\n",
    "The first line contains a single integer N denoting the size of array A.\n",
    "The next line contains N space separated integers denoting the elements of array A.\n",
    "\n",
    "**Explanation**\n",
    "-  li = [3, 2, -1, -2, -3]  (Original List) -> -1\n",
    "- Sort the data\n",
    "- li = [-3, -2, -1, 2, 3]  (Sorted List)\n",
    "- pl = [1, 2, 2, 3, 3]  (Positive Sorted List)\n",
    "- pl[0] -> Check if this number is -ve or +ve in the original list\n",
    "- if pl[0] in li:\n",
    "    - return pl[0]\n",
    "- else\n",
    "    - return -pl[0]\n",
    "\n",
    "\n",
    "\n",
    "\n",
    "\n",
    "\n"
   ]
  },
  {
   "cell_type": "code",
   "execution_count": 19,
   "metadata": {},
   "outputs": [
    {
     "name": "stdout",
     "output_type": "stream",
     "text": [
      "6\n",
      "-1 1 2 -2 300 -300\n"
     ]
    },
    {
     "data": {
      "text/plain": [
       "1"
      ]
     },
     "execution_count": 19,
     "metadata": {},
     "output_type": "execute_result"
    }
   ],
   "source": [
    "\n",
    "n = int(input()) #\n",
    "s = input()\n",
    "s = s.split()\n",
    "li = []\n",
    "for i in s:\n",
    "    li.append(int(i))\n",
    "\n",
    "def closestZero(li):\n",
    "    if 0 in li:\n",
    "        return 0\n",
    "    li.sort()\n",
    "    pc = []\n",
    "    nc = []\n",
    "    for i in li:\n",
    "        if i > 0:\n",
    "            pc.append(i)\n",
    "    for i in li:\n",
    "        if i < 0:\n",
    "            nc.append(i)\n",
    "    if len(nc) == 0:\n",
    "        return min(pc)\n",
    "    elif len(pc) == 0:\n",
    "        return max(nc)\n",
    "    else:\n",
    "        nz = max(nc)\n",
    "        pz = min(pc)\n",
    "        if abs(nz) > pz or abs(nz) == pz:\n",
    "            return pz\n",
    "        else:\n",
    "            return nz\n",
    "closestZero(li)\n"
   ]
  },
  {
   "cell_type": "code",
   "execution_count": 38,
   "metadata": {},
   "outputs": [
    {
     "name": "stdout",
     "output_type": "stream",
     "text": [
      "-100\n"
     ]
    }
   ],
   "source": [
    "\n",
    "li = [-1, -2, 2, 3, 1, -100]\n",
    "\n",
    "li.sort()\n",
    "\n",
    "pl = []\n",
    "\n",
    "for i in li:\n",
    "    pl.append(abs(i))\n",
    "    \n",
    "pl.sort()\n",
    "if pl[-1] in li:\n",
    "    print(pl[-1])\n",
    "else:\n",
    "    print(-pl[-1])"
   ]
  },
  {
   "cell_type": "markdown",
   "metadata": {},
   "source": [
    "### Problem - 3\n",
    "You are given three numbers, a, b and c. \n",
    "Write a program to find the largest number \n",
    "which is less than or equal to c and leaves\n",
    "remainder b when divided by a.\n",
    "\n",
    "\n",
    "\n",
    "3 2 9\n",
    "9 % 3 == 0\n",
    "8 % 3 == 2\n",
    "\n",
    "\n",
    "1 2 4\n",
    "4 % 1 == 0\n",
    "3 % 1 == 0\n",
    "2 % 1 == 0\n",
    "1 % 1 == 0\n",
    "0 % 1 == 0\n",
    "-1 % 1 == 0"
   ]
  },
  {
   "cell_type": "code",
   "execution_count": 43,
   "metadata": {},
   "outputs": [
    {
     "data": {
      "text/plain": [
       "98"
      ]
     },
     "execution_count": 43,
     "metadata": {},
     "output_type": "execute_result"
    }
   ],
   "source": [
    "def cal(a, b, c):\n",
    "    for i in range(c, a-1, -1): # c, c-1 ,... a\n",
    "        if i % a == b:\n",
    "            return i\n",
    "    return -1\n",
    "\n",
    "cal(3, 2, 100)"
   ]
  },
  {
   "cell_type": "code",
   "execution_count": 50,
   "metadata": {},
   "outputs": [
    {
     "data": {
      "text/plain": [
       "26"
      ]
     },
     "execution_count": 50,
     "metadata": {},
     "output_type": "execute_result"
    }
   ],
   "source": [
    "ord('z') - 96"
   ]
  },
  {
   "cell_type": "code",
   "execution_count": null,
   "metadata": {},
   "outputs": [],
   "source": []
  }
 ],
 "metadata": {
  "kernelspec": {
   "display_name": "Python 3",
   "language": "python",
   "name": "python3"
  },
  "language_info": {
   "codemirror_mode": {
    "name": "ipython",
    "version": 3
   },
   "file_extension": ".py",
   "mimetype": "text/x-python",
   "name": "python",
   "nbconvert_exporter": "python",
   "pygments_lexer": "ipython3",
   "version": "3.6.5"
  }
 },
 "nbformat": 4,
 "nbformat_minor": 2
}
