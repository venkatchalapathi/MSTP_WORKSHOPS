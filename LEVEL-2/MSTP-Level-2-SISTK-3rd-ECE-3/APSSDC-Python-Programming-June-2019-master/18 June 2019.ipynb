{
 "cells": [
  {
   "cell_type": "markdown",
   "metadata": {},
   "source": [
    "### Problem : Play with numbers\n"
   ]
  },
  {
   "cell_type": "code",
   "execution_count": 3,
   "metadata": {},
   "outputs": [
    {
     "name": "stdout",
     "output_type": "stream",
     "text": [
      " 3 3\n",
      "123 134 15\n"
     ]
    }
   ],
   "source": [
    "# Read no of array elements and no of queries\n",
    "n = input().split()\n",
    "n[0], n[1] = int(n[0]), int(n[1])\n",
    "\n",
    "# Read array elements\n",
    "a = input().split()\n",
    "\n",
    "sum = [] # Initialize cumulative sum array\n",
    "\n",
    "# Cumulative Sum\n",
    "for i in range(0, n[0]):\n",
    "    if i == 0:\n",
    "        sum.append(int(a[i]))\n",
    "    else:\n",
    "        sum.append(int(sum[i-1]) + int(a[i]))\n",
    "\n",
    "del a\n",
    "        \n",
    "# Read each query and calculate the average\n",
    "for k in range(0, n[1]):\n",
    "    inq = input().split()\n",
    "    i = int(inq[0])\n",
    "    j = int(inq[1])\n",
    "    if i > 1:\n",
    "        print((sum[j-1] - sum[i-2]) // (j-i+1))\n",
    "    else:\n",
    "        print(sum[j-1] // (j-i+1))\n",
    "\n"
   ]
  },
  {
   "cell_type": "code",
   "execution_count": null,
   "metadata": {},
   "outputs": [],
   "source": []
  },
  {
   "cell_type": "markdown",
   "metadata": {},
   "source": [
    "### Problem : Special Number\n",
    "A special number is defined as a number which has at least P distinct prime factors.\n",
    "\n",
    "Write a program to determine whether a number N is a special number.\n",
    "\n",
    "**Input format**\n",
    "First line: P\n",
    "Second line: T (number of test cases)\n",
    "Next T lines: N\n",
    "\n",
    "**Output format**\n",
    "For each test case, print YES or NO depending on the result.\n"
   ]
  },
  {
   "cell_type": "code",
   "execution_count": 18,
   "metadata": {},
   "outputs": [
    {
     "data": {
      "text/plain": [
       "True"
      ]
     },
     "execution_count": 18,
     "metadata": {},
     "output_type": "execute_result"
    }
   ],
   "source": [
    "# Function to determine if a number is special number or not\n",
    "def isSpecialNumber(n, p):\n",
    "    if numberOfPrimeFactors(n) >= p:\n",
    "        return True\n",
    "    return False\n",
    "\n",
    "\n",
    "#Function to check if number is Prime\n",
    "def isPrime(n):\n",
    "    flag = 1\n",
    "    if n == 2:\n",
    "        return True\n",
    "    for i in range(2, n//2 + 1):\n",
    "        if n % i == 0:\n",
    "            flag = 0\n",
    "            return False\n",
    "    if flag == 1:\n",
    "        return True\n",
    "\n",
    "#Function to determine number of Prime factors for a given number\n",
    "\n",
    "def numberOfPrimeFactors(n):\n",
    "    if isPrime(n):\n",
    "        return 1\n",
    "    count = 0\n",
    "    for i in range(2, n // 2 + 1):\n",
    "        if isPrime(i) and n % i == 0:\n",
    "            count += 1\n",
    "    return count\n",
    "\n",
    "def solution2():\n",
    "    p = int(input())\n",
    "    t = int(input())\n",
    "    for i in range(0, t):\n",
    "        n = int(input())\n",
    "        if isSpecialNumber(n, p):\n",
    "            print(\"YES\")\n",
    "        else:\n",
    "            print(\"NO\")\n",
    "isSpecialNumber(30, 2)"
   ]
  },
  {
   "cell_type": "code",
   "execution_count": null,
   "metadata": {},
   "outputs": [],
   "source": []
  },
  {
   "cell_type": "markdown",
   "metadata": {},
   "source": [
    "### Problem : Highest Remainder\n",
    "Write a program to find a natural number that is smaller than N such that N gives the highest remainder when divided by that number.\n",
    "If there is more than one such number, print the smallest one.\n",
    "\n",
    "\n",
    "N\n",
    "highest = 0\n",
    "x < N and n % x == highest \n",
    "\n",
    "30\n",
    "1\n",
    "2\n",
    "3\n",
    "4\n",
    "5\n",
    "6\n",
    "\n",
    "\n",
    "16 14\n",
    "15 0\n",
    "\n",
    "9\n",
    "8 1\n",
    "7 2\n",
    "6 3\n",
    "5 4\n",
    "4 1\n",
    "3 0\n",
    "2 4\n",
    "\n",
    "\n"
   ]
  },
  {
   "cell_type": "code",
   "execution_count": 22,
   "metadata": {},
   "outputs": [
    {
     "name": "stdout",
     "output_type": "stream",
     "text": [
      "3\n"
     ]
    }
   ],
   "source": [
    "def highestRemainder(n):\n",
    "    hr = 0\n",
    "    v = n\n",
    "    for i in range(n-1, n // 2, -1):\n",
    "        r = n % i\n",
    "        if r > hr:\n",
    "            hr = r\n",
    "            v = i\n",
    "    print(v)\n",
    "    return\n",
    "\n",
    "highestRemainder(5)"
   ]
  },
  {
   "cell_type": "code",
   "execution_count": null,
   "metadata": {},
   "outputs": [],
   "source": []
  },
  {
   "cell_type": "markdown",
   "metadata": {},
   "source": [
    "### Tuples\n",
    "t1 = ()\n",
    "li = []\n",
    "\n",
    "Difference between Lists and Tuples\n",
    "\n",
    "lists are mutable - can be changed / modified\n",
    "- Used to Access, Modify, Add, Delete data\n",
    "\n",
    "Tuples are immutable - Cannot be changed once initialised\n",
    "- Used to access data only\n",
    "- All Slicing work\n"
   ]
  },
  {
   "cell_type": "code",
   "execution_count": 26,
   "metadata": {},
   "outputs": [
    {
     "data": {
      "text/plain": [
       "(8, 6, 0)"
      ]
     },
     "execution_count": 26,
     "metadata": {},
     "output_type": "execute_result"
    }
   ],
   "source": [
    "t1 = (1, 2, 8, 6, 0)\n",
    "\n",
    "t1[3] # Accessing the fourth element\n",
    "\n",
    "t1[len(t1)//2:]# Accessing all elements from middle to last"
   ]
  },
  {
   "cell_type": "code",
   "execution_count": 27,
   "metadata": {},
   "outputs": [
    {
     "data": {
      "text/plain": [
       "tuple"
      ]
     },
     "execution_count": 27,
     "metadata": {},
     "output_type": "execute_result"
    }
   ],
   "source": [
    "type(t1)"
   ]
  },
  {
   "cell_type": "code",
   "execution_count": null,
   "metadata": {},
   "outputs": [],
   "source": []
  },
  {
   "cell_type": "markdown",
   "metadata": {},
   "source": [
    "### Dictionaries\n",
    "\n",
    "It works on the concept of Set\n",
    "Unique Data\n",
    "\n",
    "\n",
    "Keys, Values\n",
    "Key is the unique identifier for a value\n",
    "Value is data that can be accessed with a key"
   ]
  },
  {
   "cell_type": "code",
   "execution_count": 40,
   "metadata": {},
   "outputs": [
    {
     "data": {
      "text/plain": [
       "True"
      ]
     },
     "execution_count": 40,
     "metadata": {},
     "output_type": "execute_result"
    }
   ],
   "source": [
    "d1 = {\"k1\":\"value1\", \"k2\":\"value2\"}\n",
    "    \n",
    "d1[\"k2\"]  # Accessing the value with key \"k2\" \n",
    "d1.keys() # returns list of all keys\n",
    "d1.values() # returns list of all values\n",
    "d1.items() # returns list of tuples of keys and values\n",
    "d1[\"k3\"] = \"value3\" # Adding an element to the dictionary\n",
    "\n",
    "d1[\"k3\"] = \"value4\" # Updating an element\n",
    "d1.pop(\"k3\") # Removing an element\n",
    "\"k2\" in d1"
   ]
  },
  {
   "cell_type": "markdown",
   "metadata": {},
   "source": [
    "### Contacts Application\n",
    "- Add Contact\n",
    "- Search for contact\n",
    "- List all contacts\n",
    "    - name1 : phone1\n",
    "    - name2 : phone2\n",
    "- Modify contact\n",
    "- Remove contact\n",
    "- Import contacts\n"
   ]
  },
  {
   "cell_type": "code",
   "execution_count": 45,
   "metadata": {},
   "outputs": [
    {
     "name": "stdout",
     "output_type": "stream",
     "text": [
      "Contact name1 added\n"
     ]
    }
   ],
   "source": [
    "contacts = {}\n",
    "\n",
    "def addContact(name, phone):\n",
    "    #verify that the contact doesnot already exist\n",
    "    if name not in contacts:\n",
    "        contacts[name] = phone\n",
    "        print(\"Contact %s added\" % name)\n",
    "    else:\n",
    "        print(\"Contact %s already exists\" % name)\n",
    "    return\n",
    "\n",
    "addContact(\"name1\", 1234567098)"
   ]
  },
  {
   "cell_type": "code",
   "execution_count": 46,
   "metadata": {},
   "outputs": [
    {
     "name": "stdout",
     "output_type": "stream",
     "text": [
      "name1 : 1234567098\n"
     ]
    }
   ],
   "source": [
    "def searchContacts(name):\n",
    "    if name in contacts:\n",
    "        print(name, \":\", contacts[name])\n",
    "    else:\n",
    "        print(\"%s does not exist\" % name)\n",
    "    return\n",
    "\n",
    "searchContacts(\"name1\")"
   ]
  },
  {
   "cell_type": "code",
   "execution_count": 48,
   "metadata": {},
   "outputs": [
    {
     "name": "stdout",
     "output_type": "stream",
     "text": [
      "2 contacts added successfully\n"
     ]
    }
   ],
   "source": [
    "# New contacts is given as a dictionary\n",
    "# Merge new contacts with existing contacts\n",
    "def importContacts(newContacts):\n",
    "    contacts.update(newContacts)\n",
    "    print(len(newContacts.keys()), \"contacts added successfully\")\n",
    "    return\n",
    "\n",
    "newContacts = {\"name2\":9876543210, \"name3\":654321987}\n",
    "\n",
    "importContacts(newContacts)\n"
   ]
  },
  {
   "cell_type": "code",
   "execution_count": 49,
   "metadata": {},
   "outputs": [
    {
     "data": {
      "text/plain": [
       "{'name1': 1234567098, 'name2': 9876543210, 'name3': 654321987}"
      ]
     },
     "execution_count": 49,
     "metadata": {},
     "output_type": "execute_result"
    }
   ],
   "source": [
    "contacts"
   ]
  },
  {
   "cell_type": "code",
   "execution_count": null,
   "metadata": {},
   "outputs": [],
   "source": []
  },
  {
   "cell_type": "markdown",
   "metadata": {},
   "source": [
    "### Packages and Modules\n",
    "\n",
    "\n",
    "**Package** -> Collection of Modules(Python File .py) and subpackages\n",
    "**Sub Package** -> \n",
    "\n",
    "**Module** -> A single python file containing functions\n",
    "\n",
    "Package -> Subpackages -> Modules -> Functions"
   ]
  },
  {
   "cell_type": "code",
   "execution_count": 5,
   "metadata": {},
   "outputs": [
    {
     "data": {
      "text/plain": [
       "123"
      ]
     },
     "execution_count": 5,
     "metadata": {},
     "output_type": "execute_result"
    }
   ],
   "source": [
    "from math import floor as fl\n",
    "\n",
    "fl(123.456)\n"
   ]
  },
  {
   "cell_type": "code",
   "execution_count": 14,
   "metadata": {},
   "outputs": [
    {
     "name": "stdout",
     "output_type": "stream",
     "text": [
      "89 21 32 16 51 77 36 21 40 4 "
     ]
    }
   ],
   "source": [
    "# Function to generate N random numbers in a given range\n",
    "\n",
    "import random\n",
    "\n",
    "def generateNRandomNumbers(n, lb, ub):\n",
    "    for i in range(0, n):\n",
    "        print(random.randint(lb, ub), end=\" \")\n",
    "\n",
    "generateNRandomNumbers(10, 0, 100)"
   ]
  },
  {
   "cell_type": "code",
   "execution_count": null,
   "metadata": {},
   "outputs": [],
   "source": []
  },
  {
   "cell_type": "code",
   "execution_count": 10,
   "metadata": {},
   "outputs": [
    {
     "data": {
      "text/plain": [
       "False"
      ]
     },
     "execution_count": 10,
     "metadata": {},
     "output_type": "execute_result"
    }
   ],
   "source": [
    "from Packages.numerical import isPrime\n",
    "\n",
    "isPrime(105)"
   ]
  },
  {
   "cell_type": "code",
   "execution_count": null,
   "metadata": {},
   "outputs": [],
   "source": []
  }
 ],
 "metadata": {
  "kernelspec": {
   "display_name": "Python 3",
   "language": "python",
   "name": "python3"
  },
  "language_info": {
   "codemirror_mode": {
    "name": "ipython",
    "version": 3
   },
   "file_extension": ".py",
   "mimetype": "text/x-python",
   "name": "python",
   "nbconvert_exporter": "python",
   "pygments_lexer": "ipython3",
   "version": "3.7.3"
  }
 },
 "nbformat": 4,
 "nbformat_minor": 2
}
