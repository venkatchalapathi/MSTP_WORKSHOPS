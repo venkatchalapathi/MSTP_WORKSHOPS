{
 "cells": [
  {
   "cell_type": "markdown",
   "metadata": {},
   "source": [
    "# Literature Programming \n",
    "* Ordered List \n",
    "    1. Python\n",
    "    2. Java\n",
    "    3. C\n",
    "    4. C++\n",
    "* Unordered List\n",
    "    - Kadapa\n",
    "    - Karnool\n",
    "    - Ananthapu\n",
    "    - Chitoor\n",
    " <img src='apssdc.jpg'>"
   ]
  },
  {
   "cell_type": "markdown",
   "metadata": {},
   "source": [
    "## Python "
   ]
  },
  {
   "cell_type": "markdown",
   "metadata": {},
   "source": [
    "### Comments In python \n"
   ]
  },
  {
   "cell_type": "code",
   "execution_count": null,
   "metadata": {},
   "outputs": [],
   "source": [
    "# '#' denote the Python Commnent( ctr+/) --->Single Line Comment\n",
    "''' denotes multiline comment '''\n",
    "   \n"
   ]
  },
  {
   "cell_type": "code",
   "execution_count": 1,
   "metadata": {},
   "outputs": [
    {
     "name": "stdout",
     "output_type": "stream",
     "text": [
      "Hello World\n"
     ]
    }
   ],
   "source": [
    "#Helleo World Program\n",
    "print(\"Hello World\")"
   ]
  },
  {
   "cell_type": "markdown",
   "metadata": {},
   "source": [
    "## Python varibale \n",
    "* Variable Stores the Data\n",
    " "
   ]
  },
  {
   "cell_type": "code",
   "execution_count": 4,
   "metadata": {},
   "outputs": [
    {
     "name": "stdout",
     "output_type": "stream",
     "text": [
      "1\n"
     ]
    }
   ],
   "source": [
    "a=1\n",
    "print(a)"
   ]
  },
  {
   "cell_type": "code",
   "execution_count": 5,
   "metadata": {},
   "outputs": [
    {
     "data": {
      "text/plain": [
       "int"
      ]
     },
     "execution_count": 5,
     "metadata": {},
     "output_type": "execute_result"
    }
   ],
   "source": [
    "type(a)"
   ]
  },
  {
   "cell_type": "code",
   "execution_count": 11,
   "metadata": {},
   "outputs": [
    {
     "name": "stdout",
     "output_type": "stream",
     "text": [
      "apssdc\n",
      "9.8\n",
      "10.567575\n"
     ]
    },
    {
     "data": {
      "text/plain": [
       "float"
      ]
     },
     "execution_count": 11,
     "metadata": {},
     "output_type": "execute_result"
    }
   ],
   "source": [
    "s='apssdc'\n",
    "s1=9.8\n",
    "s2=10.567575\n",
    "print(s)\n",
    "print(s1)\n",
    "print(s2)\n",
    "type(s)\n",
    "type(s1)\n",
    "type(s2)\n"
   ]
  },
  {
   "cell_type": "code",
   "execution_count": 12,
   "metadata": {},
   "outputs": [
    {
     "data": {
      "text/plain": [
       "10"
      ]
     },
     "execution_count": 12,
     "metadata": {},
     "output_type": "execute_result"
    }
   ],
   "source": [
    "import math as m\n",
    "b=m.floor(s2)\n",
    "b"
   ]
  },
  {
   "cell_type": "code",
   "execution_count": 13,
   "metadata": {},
   "outputs": [
    {
     "name": "stdout",
     "output_type": "stream",
     "text": [
      "10\n",
      "10\n",
      "10\n"
     ]
    }
   ],
   "source": [
    "x=y=z=10\n",
    "print(x)\n",
    "print(y)\n",
    "print(z)"
   ]
  },
  {
   "cell_type": "code",
   "execution_count": 1,
   "metadata": {},
   "outputs": [
    {
     "name": "stdout",
     "output_type": "stream",
     "text": [
      "20\n",
      "30\n",
      "40\n"
     ]
    }
   ],
   "source": [
    "a,b,c=20,30,40\n",
    "print(a)\n",
    "print(b)\n",
    "print(c)"
   ]
  },
  {
   "cell_type": "code",
   "execution_count": 9,
   "metadata": {},
   "outputs": [
    {
     "data": {
      "text/plain": [
       "140"
      ]
     },
     "execution_count": 9,
     "metadata": {},
     "output_type": "execute_result"
    }
   ],
   "source": [
    "a+c"
   ]
  },
  {
   "cell_type": "code",
   "execution_count": 8,
   "metadata": {},
   "outputs": [
    {
     "data": {
      "text/plain": [
       "100"
      ]
     },
     "execution_count": 8,
     "metadata": {},
     "output_type": "execute_result"
    }
   ],
   "source": [
    "a=a+c\n",
    "a"
   ]
  },
  {
   "cell_type": "code",
   "execution_count": 12,
   "metadata": {},
   "outputs": [
    {
     "data": {
      "text/plain": [
       "100"
      ]
     },
     "execution_count": 12,
     "metadata": {},
     "output_type": "execute_result"
    }
   ],
   "source": [
    "a"
   ]
  },
  {
   "cell_type": "code",
   "execution_count": 15,
   "metadata": {},
   "outputs": [
    {
     "data": {
      "text/plain": [
       "float"
      ]
     },
     "execution_count": 15,
     "metadata": {},
     "output_type": "execute_result"
    }
   ],
   "source": [
    "num1=34.8#Flot Value\n",
    "type(num1)"
   ]
  },
  {
   "cell_type": "code",
   "execution_count": 16,
   "metadata": {},
   "outputs": [
    {
     "data": {
      "text/plain": [
       "34"
      ]
     },
     "execution_count": 16,
     "metadata": {},
     "output_type": "execute_result"
    }
   ],
   "source": [
    "int(num1)"
   ]
  },
  {
   "cell_type": "code",
   "execution_count": 17,
   "metadata": {},
   "outputs": [
    {
     "data": {
      "text/plain": [
       "'34.8'"
      ]
     },
     "execution_count": 17,
     "metadata": {},
     "output_type": "execute_result"
    }
   ],
   "source": [
    "str(num1)#String Value"
   ]
  },
  {
   "cell_type": "code",
   "execution_count": 34,
   "metadata": {
    "scrolled": true
   },
   "outputs": [
    {
     "name": "stdout",
     "output_type": "stream",
     "text": [
      "Enter the First number : 3\n",
      "Enter the Second Number : 5\n",
      "The two numbers Addition is  8\n",
      "The two numbers Addition is  243\n"
     ]
    }
   ],
   "source": [
    "#Dynamic inputs \n",
    "\n",
    "n1=int(input(\"Enter the First number : \"))\n",
    "n2=int(input(\"Enter the Second Number : \"))\n",
    "print(\"The two numbers Addition is \",n1+n2)\n",
    "print(\"The two numbers Addition is \",n1**n2)\n",
    "\n"
   ]
  },
  {
   "cell_type": "code",
   "execution_count": 31,
   "metadata": {},
   "outputs": [
    {
     "data": {
      "text/plain": [
       "243"
      ]
     },
     "execution_count": 31,
     "metadata": {},
     "output_type": "execute_result"
    }
   ],
   "source": [
    "3*3*3*3*3"
   ]
  },
  {
   "cell_type": "code",
   "execution_count": null,
   "metadata": {},
   "outputs": [],
   "source": [
    "#Task 1:Take input 1 value is 30 and second Input Value is 10 then \n",
    "#find the floor,power of theat values \n",
    "\n",
    "#Task 2:\n",
    "          input :x=2,y=3\n",
    "#         Expression:2(x+y)^4x^2(y+2)-(y^3)\n",
    "                     2(2+3)^4(2)^2(3+2)-(3^3)\n",
    "                     2(5)^16^10-18\n",
    "    `a\n",
    "          output:\n",
    "\n"
   ]
  },
  {
   "cell_type": "code",
   "execution_count": 37,
   "metadata": {},
   "outputs": [
    {
     "ename": "SyntaxError",
     "evalue": "invalid syntax (<ipython-input-37-4b7641cb5c53>, line 1)",
     "output_type": "error",
     "traceback": [
      "\u001b[1;36m  File \u001b[1;32m\"<ipython-input-37-4b7641cb5c53>\"\u001b[1;36m, line \u001b[1;32m1\u001b[0m\n\u001b[1;33m    bit Wise and(&)\u001b[0m\n\u001b[1;37m           ^\u001b[0m\n\u001b[1;31mSyntaxError\u001b[0m\u001b[1;31m:\u001b[0m invalid syntax\n"
     ]
    }
   ],
   "source": [
    "bit Wise and(&)\n",
    "bitWise OR(|)\n",
    "bitwise not(~)\n",
    "bitwise Xor(^)\n",
    "\n",
    "2^3\n",
    " condition1 condtion2  condition1^condtion2\n",
    "    1         1           0\n",
    "    1         0           1\n",
    "    0         1           1\n",
    "    0         0           0\n",
    "\n",
    "2->0010\n",
    "3->0011\n",
    "-------\n",
    "   0001-->1\n",
    "\n"
   ]
  },
  {
   "cell_type": "code",
   "execution_count": 38,
   "metadata": {},
   "outputs": [
    {
     "data": {
      "text/plain": [
       "8"
      ]
     },
     "execution_count": 38,
     "metadata": {},
     "output_type": "execute_result"
    }
   ],
   "source": [
    "2**3"
   ]
  },
  {
   "cell_type": "code",
   "execution_count": 4,
   "metadata": {},
   "outputs": [
    {
     "name": "stdout",
     "output_type": "stream",
     "text": [
      "Enter X value:2\n",
      "Enter Y value:3\n",
      "F( 2 , 3 )= 1\n"
     ]
    }
   ],
   "source": [
    "x=int(input(\"Enter X value:\"))\n",
    "y=int(input(\"Enter Y value:\"))\n",
    "result=(2*(x+y))+(4*(x))+(2*(y+2))-(y**3)\n",
    "print(\"F(\",x,\",\",y,\")=\",result)"
   ]
  },
  {
   "cell_type": "markdown",
   "metadata": {},
   "source": [
    "### Task 3\n",
    "    input:5\n",
    "    expression:5x+2x+(x^2)+32\n",
    "    output:92\n",
    "    output:f(5)=92\n",
    "    input:6\n",
    "    output:f(6)=110\n",
    "        "
   ]
  },
  {
   "cell_type": "code",
   "execution_count": 6,
   "metadata": {},
   "outputs": [
    {
     "name": "stdout",
     "output_type": "stream",
     "text": [
      "6\n",
      "110\n",
      "f( 6 )= 110\n"
     ]
    }
   ],
   "source": [
    "x=int(input())\n",
    "expre=5*x+2*x+(x**2)+32\n",
    "print(expre)\n",
    "print(\"f(\",x,\")=\",expre)"
   ]
  },
  {
   "cell_type": "markdown",
   "metadata": {},
   "source": [
    "### Operators\n",
    "* Arithmatic operators-->+,-,*,/,%,//\n",
    "* Logical Operators-->AND(&&),OR(||),NOT(!)\n",
    "* Relational(Condional) Operators--> <,>,>=,<=,==,!=\n",
    "* Assignment Oprators-->+=,-=,*=,/=,%=\n",
    "* BitWise Operators -->AND(&),Or(|),Not(~),XOR(^)"
   ]
  },
  {
   "cell_type": "markdown",
   "metadata": {},
   "source": [
    "### Arithmatic operators\n",
    "- Addition(+)\n",
    "- Substration(-)\n",
    "- Multiplication(*)\n",
    "- Divistion(/)\n",
    "- Modulo(%)\n",
    "\n",
    "#### input:2 3\n",
    "#### output:\n",
    "       aditon of 2 and 3 is 5\n",
    "       Subtration of 2 and 3 is -1\n",
    "       Multiplication of 2 and 3 is 6\n",
    "       Division of 2 and 3 is 0.5\n",
    "       ModuloDivision of 2 and 3 is 2\n",
    "       Floor Division of 2 and 3 is 0"
   ]
  },
  {
   "cell_type": "code",
   "execution_count": 12,
   "metadata": {},
   "outputs": [
    {
     "name": "stdout",
     "output_type": "stream",
     "text": [
      "110\n",
      "200\n",
      "Addition of  110 And  200 is  310\n",
      "Subtration of  110 And  200 is  -90\n",
      "Multiplication of  110 And  200 is  22000\n",
      "Division of  110 And  200 is  0.55\n",
      "Modulo Divsion of  110 And  200 is  110\n",
      "Floor of  110 And  200 is  0\n"
     ]
    }
   ],
   "source": [
    "n1=int(input())\n",
    "n2=int(input())\n",
    "print(\"Addition of \",n1,\"And \",n2,\"is \",n1+n2)\n",
    "print(\"Subtration of \",n1,\"And \",n2,\"is \",n1-n2)\n",
    "print(\"Multiplication of \",n1,\"And \",n2,\"is \",n1*n2)\n",
    "print(\"Division of \",n1,\"And \",n2,\"is \",n1/n2)\n",
    "print(\"Modulo Divsion of \",n1,\"And \",n2,\"is \",n1%n2)\n",
    "print(\"Floor of \",n1,\"And \",n2,\"is \",n1//n2)\n"
   ]
  },
  {
   "cell_type": "markdown",
   "metadata": {},
   "source": [
    "#### Logical Operators-->AND(&&),OR(||),NOT(!)"
   ]
  },
  {
   "cell_type": "code",
   "execution_count": null,
   "metadata": {},
   "outputs": [],
   "source": [
    "AND \n",
    "    Condition1 Condtion2   Condtion1&& Condition2\n",
    "      T        T            T\n",
    "      T        F            F\n",
    "      F        T            F\n",
    "      F        F            F\n",
    "OR  Condtioin1  Condition2  Codtion1 || Condition2\n",
    "      T         T            T\n",
    "      T         F            T\n",
    "      F         T            T\n",
    "      F         F            F\n",
    "Not (!)\n",
    "         Condition(T) = !(Codition)F\n",
    "         Condition(F) =!(Condtion)T\n",
    "        \n",
    "    "
   ]
  },
  {
   "cell_type": "code",
   "execution_count": null,
   "metadata": {},
   "outputs": [],
   "source": [
    "Task:\n",
    "    input :2 3\n",
    "    output: Logical AND of (a<10) and (a<b) is True\n",
    "            Logical AND of (a>10) and (a<b) is False\n",
    "            Logical OR of (a<10) or(a>b) is True\n",
    "            Logical OR of (a>10) or (a==20) is False\n",
    "            Logical Not of !(a<10 and (a<b)) is False\n",
    "            Logical Not of !((a>10) and (a<b)) is True"
   ]
  }
 ],
 "metadata": {
  "kernelspec": {
   "display_name": "Python 3",
   "language": "python",
   "name": "python3"
  },
  "language_info": {
   "codemirror_mode": {
    "name": "ipython",
    "version": 3
   },
   "file_extension": ".py",
   "mimetype": "text/x-python",
   "name": "python",
   "nbconvert_exporter": "python",
   "pygments_lexer": "ipython3",
   "version": "3.7.3"
  }
 },
 "nbformat": 4,
 "nbformat_minor": 2
}
